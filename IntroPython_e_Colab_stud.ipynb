{
  "cells": [
    {
      "cell_type": "markdown",
      "metadata": {
        "id": "view-in-github",
        "colab_type": "text"
      },
      "source": [
        "<a href=\"https://colab.research.google.com/github/enniogit/Bologna/blob/master/IntroPython_e_Colab_stud.ipynb\" target=\"_parent\"><img src=\"https://colab.research.google.com/assets/colab-badge.svg\" alt=\"Open In Colab\"/></a>"
      ]
    },
    {
      "cell_type": "markdown",
      "metadata": {
        "id": "fZbqURa_1TTC"
      },
      "source": [
        "# Breve introduzione al Python.\n",
        "Python è un linguaggio di programmazione a oggetti ad alto livello, orientato e a oggetti. A differenza del c++:\n",
        "\n",
        "*   le variabili non sono tipicizzate (es `int a=0` in c++, `a=0 `in python)\n",
        "*   le assegnazioni sono del tipo `nome_variabile = valore`\n",
        "*   al posto delle parentesi, viene usata l'indentazione per la sintassi delle specifiche\n",
        "\n"
      ]
    },
    {
      "cell_type": "code",
      "execution_count": null,
      "metadata": {
        "id": "0J344MLc1uiA",
        "colab": {
          "base_uri": "https://localhost:8080/"
        },
        "outputId": "aca36f61-a415-4d62-899d-c0a70899f4bc"
      },
      "outputs": [
        {
          "output_type": "stream",
          "name": "stdout",
          "text": [
            "[23, 25, 30, 12, 14]\n"
          ]
        }
      ],
      "source": [
        "#Esempi di assegnazione:\n",
        "età = 56\n",
        "nome= \"Carlo\"  #questa è una stringa\n",
        "colore = \"verde\"\n",
        "voti_esonero = [23,25,30,12,14]   # questa è una lista\n",
        "\n",
        "# posso far scrivere a schermo ( o su terminale ) attraverso la funzione print()\n",
        "\n",
        "print(voti_esonero)\n",
        "\n"
      ]
    },
    {
      "cell_type": "markdown",
      "metadata": {
        "id": "FlrdhAyhVgCx"
      },
      "source": [
        "\n",
        "Le liste possono contenere dati di tipo diverso\n",
        "```\n",
        "lista=[1,\"anna\", 3.2]\n",
        "```\n",
        "Le liste possono anche essere annidate\n",
        "```\n",
        "M=[[1,2,3],[5,4,6]]\n",
        "```\n",
        "dove `[1,2,3]` e `[5,4,6]` sono le due liste annidate nel caso precedente.\n",
        "Queste possono essere utilizzate per rappresentare,ad esempio, delle matrici 2D.\n",
        "\n",
        "In caso di liste annidate, posso accederci usando un indice:\n"
      ]
    },
    {
      "cell_type": "code",
      "execution_count": null,
      "metadata": {
        "id": "kaUqZftpXEo5",
        "colab": {
          "base_uri": "https://localhost:8080/"
        },
        "outputId": "6d06a20e-af44-4fad-fc1f-dd04107e3852"
      },
      "outputs": [
        {
          "output_type": "stream",
          "name": "stdout",
          "text": [
            "[1, 2, 3]\n"
          ]
        }
      ],
      "source": [
        "M=[[1,2,3],[5,4,6]]  # assegna ad M liste annidate\n",
        "print(M[0])          # Stampa la prima delle 2 liste"
      ]
    },
    {
      "cell_type": "markdown",
      "metadata": {
        "id": "ysNRX7-a55fc"
      },
      "source": [
        "Attraverso il comando `len(mia_lista)` è possibile ottenere il numero di elementi di una lista. Ricordate che se dovete eseguire un ciclo e accedere ai singoli elementi della lista, l'indice del primo elemento è `0`\n",
        "\n",
        "È possibile aggiungere degli elementi ad una lista attraverso il metodo `.append()`  "
      ]
    },
    {
      "cell_type": "code",
      "execution_count": null,
      "metadata": {
        "id": "049lUWuKXQoA",
        "colab": {
          "base_uri": "https://localhost:8080/"
        },
        "outputId": "9e4f5d9c-da08-4939-89ec-dab1708f79b9"
      },
      "outputs": [
        {
          "output_type": "stream",
          "name": "stdout",
          "text": [
            "[23, 25, 30, 12, 14]\n",
            "la lista voti_esonero ha  5  elementi\n",
            "[23, 25, 30, 12, 14, 30]\n",
            "la lista voti_esonero ha  6  elementi\n",
            "\n",
            "Il primo elemento della lista è  23\n"
          ]
        }
      ],
      "source": [
        "voti_esonero = [23,25,30,12,14]\n",
        "\n",
        "print(voti_esonero)\n",
        "\n",
        "elementi_lista=len(voti_esonero)\n",
        "\n",
        "print(\"la lista voti_esonero ha \",elementi_lista,\" elementi\")\n",
        "\n",
        "voti_esonero.append(30)\n",
        "elementi_lista=len(voti_esonero)\n",
        "\n",
        "print (voti_esonero)\n",
        "\n",
        "print(\"la lista voti_esonero ha \",elementi_lista,\" elementi\")\n",
        "\n",
        "print(\"\")\n",
        "print(\"Il primo elemento della lista è \", voti_esonero[0])\n"
      ]
    },
    {
      "cell_type": "markdown",
      "metadata": {
        "id": "0P6igSXo-_SR"
      },
      "source": [
        "Le tuple sono simili alle liste, ma i suoi elementi non possono essere modificati. si definiscono fra parentesi tonde ad esempio `ntupla = (1,2,3,4)`. Si puo accedere all'i-esimo elemento dell'ntupla con `ntupla[i]`. Per la sua lunghezza posso usare la funzione `len()`.\n",
        "\n",
        "In Python si possono effettuare assegnazioni multiple:"
      ]
    },
    {
      "cell_type": "code",
      "execution_count": null,
      "metadata": {
        "id": "b-YUZzcF7E2c",
        "colab": {
          "base_uri": "https://localhost:8080/"
        },
        "outputId": "94804c20-d336-48a2-b5b3-b7209b9a75cb"
      },
      "outputs": [
        {
          "output_type": "stream",
          "name": "stdout",
          "text": [
            "1\n",
            "2\n"
          ]
        }
      ],
      "source": [
        "a, b = 1, 2\n",
        "\n",
        "print(a)\n",
        "\n",
        "print(b)"
      ]
    },
    {
      "cell_type": "markdown",
      "metadata": {
        "id": "yCl3qgHJASsv"
      },
      "source": [
        "##Operazioni in Python\n",
        "Addizione. NB, l'operatore `+` può essere usato anche per concatenare stringhe"
      ]
    },
    {
      "cell_type": "code",
      "execution_count": null,
      "metadata": {
        "id": "1ZhAv-BPAH6B",
        "colab": {
          "base_uri": "https://localhost:8080/"
        },
        "outputId": "3c3ce771-099c-4b15-8035-42a00c7b80f6"
      },
      "outputs": [
        {
          "output_type": "stream",
          "name": "stdout",
          "text": [
            "11\n",
            "Ciao a  tutti\n",
            "1\n",
            "19\n",
            "12\n",
            "16\n",
            "0.13043478260869565\n",
            "1\n"
          ]
        }
      ],
      "source": [
        "print(5+6)   #somma\n",
        "\n",
        "mess=\"Ciao\"+\" a \"+\" tutti\"  #concatenazione stringhe con somma\n",
        "print(mess)\n",
        "\n",
        "print(True+False) #True=1 e False=0\n",
        "\n",
        "print(23-4)  # sottrazione\n",
        "\n",
        "print(3*4) #moltiplicazione\n",
        "\n",
        "print(4**2)  #elevamento a potenza\n",
        "\n",
        "print(3/23)  #divisione  - il risultato è sempre un float - se si divide per 0 si ha errore\n",
        "\n",
        "print(3%2)   # modulo"
      ]
    },
    {
      "cell_type": "markdown",
      "metadata": {
        "id": "gS9C1TL2H7Uw"
      },
      "source": [
        "##Operatori di confronto\n",
        "Si possono usare `<  >  <=  >=  ==  !=` e il risultato è un booleano `True` o `False`. Possono essere usati anche per confrontare stringhe. Tipicamente si utilizzano per confrontare valori di 2 o più variabili.\n",
        "\n",
        "NOTA BENE. L'operatore `=` è usato per assegnare un valore a una variabile mentre `==` serve per confrontare due valori"
      ]
    },
    {
      "cell_type": "code",
      "execution_count": null,
      "metadata": {
        "id": "2mE9y4NhAlze",
        "colab": {
          "base_uri": "https://localhost:8080/"
        },
        "outputId": "53b7c185-41c4-4b8c-ec9c-74ec80b13fac"
      },
      "outputs": [
        {
          "output_type": "execute_result",
          "data": {
            "text/plain": [
              "False"
            ]
          },
          "metadata": {},
          "execution_count": 6
        }
      ],
      "source": [
        "5>6"
      ]
    },
    {
      "cell_type": "code",
      "execution_count": null,
      "metadata": {
        "id": "K8fMlUwdIN_o",
        "colab": {
          "base_uri": "https://localhost:8080/"
        },
        "outputId": "0e98cfd8-ba44-422b-ffe7-cb9eb3faa694"
      },
      "outputs": [
        {
          "output_type": "execute_result",
          "data": {
            "text/plain": [
              "True"
            ]
          },
          "metadata": {},
          "execution_count": 7
        }
      ],
      "source": [
        "5<6"
      ]
    },
    {
      "cell_type": "markdown",
      "metadata": {
        "id": "mL4S8kToI1tg"
      },
      "source": [
        "##Operatori logici\n",
        "In Python esistono anche gli operatori logici: `and   or  not`\n",
        "\n",
        "##Operatori di apparteneneza\n",
        "È possibile verificare se un elemento è in una sequenza con gli operatori `in` e `not in` , il cui risultato sarà `True` o `False`"
      ]
    },
    {
      "cell_type": "code",
      "execution_count": null,
      "metadata": {
        "id": "95p6O1pFIT_o",
        "colab": {
          "base_uri": "https://localhost:8080/"
        },
        "outputId": "f7b97025-fc26-407a-ee46-c894a0336876"
      },
      "outputs": [
        {
          "output_type": "execute_result",
          "data": {
            "text/plain": [
              "True"
            ]
          },
          "metadata": {},
          "execution_count": 8
        }
      ],
      "source": [
        "5 in [1,3,5,6,7]"
      ]
    },
    {
      "cell_type": "code",
      "execution_count": null,
      "metadata": {
        "id": "2lWysViPJcUi",
        "colab": {
          "base_uri": "https://localhost:8080/"
        },
        "outputId": "21752019-4f0b-4f7b-c4ac-37c0eb8182c3"
      },
      "outputs": [
        {
          "output_type": "execute_result",
          "data": {
            "text/plain": [
              "True"
            ]
          },
          "metadata": {},
          "execution_count": 9
        }
      ],
      "source": [
        "\"C\" in \"Ciao\""
      ]
    },
    {
      "cell_type": "markdown",
      "metadata": {
        "id": "Mn9m74hFLxfv"
      },
      "source": [
        "## Istruzioni condizionali (if, else) in python\n",
        "Servono per eseguire parti del codice a seconda che una certa coindizione sia `True` o `False`\n",
        "\n",
        "```\n",
        "if condizione:   \n",
        "   codice\n",
        "```\n",
        "\n",
        "Alla fine della pirma riga ci sono `:` . Inoltre il codice presenta un'indentazione, che è essenziale per far sì che il codice venga riconosciuto come appartenente all'istruzione condizionale."
      ]
    },
    {
      "cell_type": "code",
      "execution_count": null,
      "metadata": {
        "id": "HzEXx9KUJfMh",
        "colab": {
          "base_uri": "https://localhost:8080/"
        },
        "outputId": "5b2da519-cd91-44fe-a03c-0087ee6d2b53"
      },
      "outputs": [
        {
          "output_type": "stream",
          "name": "stdout",
          "text": [
            "Hello, World!\n"
          ]
        }
      ],
      "source": [
        "x = 8\n",
        "\n",
        "if x > 4:\n",
        "    print(\"Hello, World!\")"
      ]
    },
    {
      "cell_type": "code",
      "execution_count": null,
      "metadata": {
        "id": "2qCeC1cYQ8Me",
        "colab": {
          "base_uri": "https://localhost:8080/"
        },
        "outputId": "0b25ee28-73e3-4c4c-b273-b35f7a0b348d"
      },
      "outputs": [
        {
          "output_type": "stream",
          "name": "stdout",
          "text": [
            "End\n"
          ]
        }
      ],
      "source": [
        "x = 6\n",
        "\n",
        "if x > 11:\n",
        "    print(\"Hello!\")\n",
        "\n",
        "print(\"End\")"
      ]
    },
    {
      "cell_type": "markdown",
      "metadata": {
        "id": "SvObpP09RKkj"
      },
      "source": [
        "Si può anche aggiungere una clusola `else` all'istruzione, se volessimo specificare cosa deve accadere nel caso in cui la condizione sia `False`\n",
        "\n",
        "```\n",
        "if condizione:\n",
        "   esegui se vero\n",
        "else:\n",
        "   esegui se falso\n",
        "\n",
        "```\n",
        "\n",
        "Per aggiungere più istruzioni condizionali possiamo aagiungere `elif`\n",
        "\n",
        "```\n",
        "if condizione1:\n",
        "   esegui se vero\n",
        "elif condizione2\n",
        "   esegui se condizione1 falsa e se condiz2 vera\n",
        "else:\n",
        "   esegui se condiz1 e condiz2 false\n",
        "\n",
        "```"
      ]
    },
    {
      "cell_type": "code",
      "execution_count": null,
      "metadata": {
        "id": "xFdAJwD-RmD3",
        "colab": {
          "base_uri": "https://localhost:8080/"
        },
        "outputId": "be67c053-d091-4745-f4d6-7ac567c3ed33"
      },
      "outputs": [
        {
          "output_type": "stream",
          "name": "stdout",
          "text": [
            "Hello!\n",
            "End\n"
          ]
        }
      ],
      "source": [
        "x = 13\n",
        "\n",
        "if x > 6:\n",
        "    print(\"Hello!\")\n",
        "else:\n",
        "    print(\"Bye!\")\n",
        "\n",
        "print(\"End\")"
      ]
    },
    {
      "cell_type": "markdown",
      "metadata": {
        "id": "UJHWkizdSRnC"
      },
      "source": [
        "##Cicli in Python\n",
        "Sono utilizzati per ripetere un certo numero di istruzioni (un blocco di codice) per un certo numero di volte. Si puo' realizzare un ciclo in python attraverso l'istruzione `for`. La sintassi è del tipo:\n",
        "```\n",
        "for <variabile del ciclo> in <iterabile>:\n",
        "   <blocco di istruzioni da eseguire>\n",
        "```\n",
        "L'iterabile può essere una lista, una tupla,una stringa, una sequenza restituita dalla funzione `range()`. Vediamo come usare questa funzione:\n",
        "```\n",
        "for <variabile del ciclo> in range(<start>,<stop>,<step>):\n",
        "   <blocco di istruzioni da eseguire>\n",
        "```\n",
        "dove `<start>` è la partenza della sequenza di interi (il default è 0), `stop` insica la fine (NB, questo valore NON è incluso) mentre `step` è il valore aggiunto all'elemento per ottenere quello successivo.\n",
        "\n",
        "La funzione `range()` accetta da 1 a 3 argomenti."
      ]
    },
    {
      "cell_type": "code",
      "execution_count": null,
      "metadata": {
        "id": "eR5P_DXxSPk4",
        "colab": {
          "base_uri": "https://localhost:8080/"
        },
        "outputId": "60180224-a4b2-4edf-a3fd-fb96c7c83d0f"
      },
      "outputs": [
        {
          "output_type": "stream",
          "name": "stdout",
          "text": [
            "0\n",
            "1\n",
            "2\n",
            "3\n",
            "4\n",
            "5\n"
          ]
        }
      ],
      "source": [
        "for i in range(6):\n",
        "  print(i)"
      ]
    },
    {
      "cell_type": "code",
      "execution_count": null,
      "metadata": {
        "id": "94ic1fLIwKXp",
        "colab": {
          "base_uri": "https://localhost:8080/"
        },
        "outputId": "d8e1a8e1-7fe1-4ba9-c42c-d4ccdaac7d68"
      },
      "outputs": [
        {
          "output_type": "stream",
          "name": "stdout",
          "text": [
            "a\n",
            "b\n",
            "c\n",
            "d\n"
          ]
        }
      ],
      "source": [
        "lista=[\"a\",\"b\",\"c\",\"d\"]\n",
        "\n",
        "for i in range(len(lista)):\n",
        "  print(lista[i])"
      ]
    },
    {
      "cell_type": "code",
      "execution_count": null,
      "metadata": {
        "id": "P-8roN__w4S6",
        "colab": {
          "base_uri": "https://localhost:8080/"
        },
        "outputId": "6ed18c69-e405-4183-e72d-9a51ac546d7e"
      },
      "outputs": [
        {
          "output_type": "stream",
          "name": "stdout",
          "text": [
            "a\n",
            "b\n",
            "c\n",
            "d\n"
          ]
        }
      ],
      "source": [
        "lista=[\"a\",\"b\",\"c\",\"d\"]\n",
        "\n",
        "for i in lista:\n",
        "  print(i)"
      ]
    },
    {
      "cell_type": "code",
      "execution_count": null,
      "metadata": {
        "id": "uCgOz3yuwf25",
        "colab": {
          "base_uri": "https://localhost:8080/"
        },
        "outputId": "af85897c-09c2-4881-e4f0-802b835008ab"
      },
      "outputs": [
        {
          "output_type": "stream",
          "name": "stdout",
          "text": [
            "2\n",
            "3\n",
            "4\n",
            "5\n"
          ]
        }
      ],
      "source": [
        "for i in range(2,6):\n",
        "  print(i)"
      ]
    },
    {
      "cell_type": "code",
      "execution_count": null,
      "metadata": {
        "id": "-hxjB7GiwrJ1",
        "colab": {
          "base_uri": "https://localhost:8080/"
        },
        "outputId": "5d3ce893-27ef-420a-f3a3-63e630bbc1ea"
      },
      "outputs": [
        {
          "output_type": "stream",
          "name": "stdout",
          "text": [
            "Pari\n",
            "Dispari\n",
            "Pari\n",
            "Dispari\n"
          ]
        }
      ],
      "source": [
        "lista = (2, 3, 4, 5)\n",
        "\n",
        "for num in lista:\n",
        "\tif num % 2 == 0:\n",
        "\t\tprint(\"Pari\")\n",
        "\telse:\n",
        "\t\tprint(\"Dispari\")"
      ]
    },
    {
      "cell_type": "markdown",
      "metadata": {
        "id": "AO1ozdivxSL4"
      },
      "source": [
        "Attraverso le istruzioni `break` e `continue` potete interrompere il ciclo immediatamente o saltare il resto dell'iterazione corrente.\n",
        "\n",
        "Analogamente è possibile definire un ciclo utilizzando l'istruzione while. La sintassi è del tipo\n",
        "\n",
        "```\n",
        "while <condizione>:\n",
        "  <istruzioni da eseguire>\n",
        "```\n",
        "Ad esempio"
      ]
    },
    {
      "cell_type": "code",
      "execution_count": null,
      "metadata": {
        "id": "QsDbRNJPxJtZ",
        "colab": {
          "base_uri": "https://localhost:8080/"
        },
        "outputId": "bf25ee4e-73fd-498d-bbd3-0895486ed650"
      },
      "outputs": [
        {
          "output_type": "stream",
          "name": "stdout",
          "text": [
            "8\n",
            "9\n",
            "10\n",
            "11\n",
            "12\n",
            "13\n",
            "14\n"
          ]
        }
      ],
      "source": [
        "x=8\n",
        "while x<15:\n",
        "  print(x)\n",
        "  x=x+1"
      ]
    },
    {
      "cell_type": "markdown",
      "metadata": {
        "id": "q87xQiXhp7fj"
      },
      "source": [
        "##Funzioni in Python\n",
        "È possibile definire funzioni (con o senza dei parametri) che possiamo utilizzare e che spesso aiutano a rendere il codice riutilizzabile e organizzato. La sintassi e' del tipo\n",
        "```\n",
        "def <nome funz>(<par1>,...,<parn>):\n",
        "  <codice>\n",
        "```  "
      ]
    },
    {
      "cell_type": "code",
      "execution_count": null,
      "metadata": {
        "id": "ScZYSWCdpxYx"
      },
      "outputs": [],
      "source": [
        "def stampa_strano():\n",
        "  size=5\n",
        "  for i in range (size):\n",
        "    print(\"*\"*size)\n"
      ]
    },
    {
      "cell_type": "code",
      "execution_count": null,
      "metadata": {
        "id": "Locub0YZq5On",
        "colab": {
          "base_uri": "https://localhost:8080/"
        },
        "outputId": "5aab815c-144a-41ab-e1fb-47076645b6da"
      },
      "outputs": [
        {
          "output_type": "stream",
          "name": "stdout",
          "text": [
            "*****\n",
            "*****\n",
            "*****\n",
            "*****\n",
            "*****\n"
          ]
        }
      ],
      "source": [
        "stampa_strano()"
      ]
    },
    {
      "cell_type": "code",
      "execution_count": null,
      "metadata": {
        "id": "p9Fl0RDFq7d-"
      },
      "outputs": [],
      "source": []
    },
    {
      "cell_type": "markdown",
      "metadata": {
        "id": "vYdrNEjwtj4-"
      },
      "source": [
        "## Istruzione import in python\n",
        "L'istruzione `import` ci permette di importare dei moduli (file che contengono definizioni e istruzioni scritte in python) in un altro file.\n",
        "\n",
        "Ad esempio\n",
        "\n",
        "`import math` permette di utilizzare le funioni definite nel modulo Python `math`. Ad esempio"
      ]
    },
    {
      "cell_type": "code",
      "execution_count": null,
      "metadata": {
        "id": "LkIxA-z2uLY9",
        "colab": {
          "base_uri": "https://localhost:8080/"
        },
        "outputId": "3e076afc-0cb2-483c-f323-d55ccbab72f1"
      },
      "outputs": [
        {
          "output_type": "execute_result",
          "data": {
            "text/plain": [
              "5.0"
            ]
          },
          "metadata": {},
          "execution_count": 21
        }
      ],
      "source": [
        "import math\n",
        "math.sqrt(25)"
      ]
    },
    {
      "cell_type": "markdown",
      "metadata": {
        "id": "tgIQ6t0fuSGV"
      },
      "source": [
        "analogamente possiamo assegnare al modulo un nuovo nome"
      ]
    },
    {
      "cell_type": "code",
      "execution_count": null,
      "metadata": {
        "id": "znklnnlQuYrW",
        "colab": {
          "base_uri": "https://localhost:8080/"
        },
        "outputId": "a115e4c5-91c6-4b79-a435-da379b663bfa"
      },
      "outputs": [
        {
          "output_type": "execute_result",
          "data": {
            "text/plain": [
              "6.0"
            ]
          },
          "metadata": {},
          "execution_count": 22
        }
      ],
      "source": [
        "import math as m\n",
        "m.sqrt(36)"
      ]
    },
    {
      "cell_type": "markdown",
      "metadata": {
        "id": "PFjEASUAueYv"
      },
      "source": [
        "Oppure possiamo utilizzare un'istruzione che ci permette di chiamare direttamente la funzione senza specificare il nome del modulo."
      ]
    },
    {
      "cell_type": "code",
      "execution_count": null,
      "metadata": {
        "id": "Sx-qtP3PusDP",
        "colab": {
          "base_uri": "https://localhost:8080/"
        },
        "outputId": "52c61b74-4acb-4bd6-981c-ee43d1465e45"
      },
      "outputs": [
        {
          "output_type": "execute_result",
          "data": {
            "text/plain": [
              "6.0"
            ]
          },
          "metadata": {},
          "execution_count": 23
        }
      ],
      "source": [
        "from math import sqrt\n",
        "\n",
        "sqrt(36)"
      ]
    },
    {
      "cell_type": "markdown",
      "metadata": {
        "id": "rAiJqm2vu2HX"
      },
      "source": [
        "Se voglio importare tutti gli elementi contenuti nel modulo con la possibilità di utilizzarli senza specificare il nome del modulo basterà utilizzare `from math import *`"
      ]
    },
    {
      "cell_type": "code",
      "execution_count": null,
      "metadata": {
        "id": "ZjOxvIV-vHhA",
        "colab": {
          "base_uri": "https://localhost:8080/"
        },
        "outputId": "499545d3-bc40-444c-d2ad-67c34614144a"
      },
      "outputs": [
        {
          "output_type": "stream",
          "name": "stdout",
          "text": [
            "2.23606797749979\n",
            "24\n"
          ]
        }
      ],
      "source": [
        "from math import *\n",
        "\n",
        "a=sqrt(5)\n",
        "b=factorial(4)\n",
        "print(a)\n",
        "print(b)\n"
      ]
    },
    {
      "cell_type": "markdown",
      "metadata": {
        "id": "ruoKygQ5rrQO"
      },
      "source": [
        "# ROOT  \n",
        "ROOT è un pacchetto software, sviluppato al CERN, scritto in C++ (ma con interfaccia python) con molteplici funzionalità. Nel nostro corso in particolare lo utilizzeremo per la visualizzazione di dati sperimentali attraverso grafici o istogrammi e la possibilità di definire funzioni, graficarle, ed utilizzarle per fittare dei dati sperimentali.\n",
        "\n",
        "Al fine di poterlo utilizzare, vanno eseguite delle istruzioni preliminari ogni volta che inizializzatela vostra area Colab. Questa operazione richiede all'incirca 1 minuto."
      ]
    },
    {
      "cell_type": "code",
      "execution_count": null,
      "metadata": {
        "colab": {
          "base_uri": "https://localhost:8080/"
        },
        "id": "O_l6CqrMucgT",
        "outputId": "59ac6015-860f-4a5f-ded1-3d18269c7480"
      },
      "outputs": [
        {
          "output_type": "stream",
          "name": "stdout",
          "text": [
            "Reading package lists... Done\n",
            "Building dependency tree... Done\n",
            "Reading state information... Done\n",
            "g++ is already the newest version (4:11.2.0-1ubuntu1).\n",
            "g++ set to manually installed.\n",
            "gcc is already the newest version (4:11.2.0-1ubuntu1).\n",
            "gcc set to manually installed.\n",
            "libxext-dev is already the newest version (2:1.3.4-1build1).\n",
            "libxext-dev set to manually installed.\n",
            "libxft-dev is already the newest version (2.3.4-1).\n",
            "cmake is already the newest version (3.22.1-1ubuntu1.22.04.2).\n",
            "dpkg-dev is already the newest version (1.21.1ubuntu2.2).\n",
            "dpkg-dev set to manually installed.\n",
            "libssl-dev is already the newest version (3.0.2-0ubuntu1.15).\n",
            "libx11-dev is already the newest version (2:1.7.5-1ubuntu0.3).\n",
            "libx11-dev set to manually installed.\n",
            "python3 is already the newest version (3.10.6-1~22.04).\n",
            "python3 set to manually installed.\n",
            "The following additional packages will be installed:\n",
            "  binutils-common binutils-x86-64-linux-gnu libbinutils libctf0\n",
            "Suggested packages:\n",
            "  binutils-doc\n",
            "The following NEW packages will be installed:\n",
            "  libafterimage0 libxpm-dev\n",
            "The following packages will be upgraded:\n",
            "  binutils binutils-common binutils-x86-64-linux-gnu libbinutils libctf0\n",
            "5 upgraded, 2 newly installed, 0 to remove and 30 not upgraded.\n",
            "Need to get 3,676 kB of archives.\n",
            "After this operation, 977 kB of additional disk space will be used.\n",
            "Get:1 http://archive.ubuntu.com/ubuntu jammy-updates/main amd64 libctf0 amd64 2.38-4ubuntu2.6 [103 kB]\n",
            "Get:2 http://archive.ubuntu.com/ubuntu jammy-updates/main amd64 binutils-x86-64-linux-gnu amd64 2.38-4ubuntu2.6 [2,326 kB]\n",
            "Get:3 http://archive.ubuntu.com/ubuntu jammy-updates/main amd64 libbinutils amd64 2.38-4ubuntu2.6 [662 kB]\n",
            "Get:4 http://archive.ubuntu.com/ubuntu jammy-updates/main amd64 binutils amd64 2.38-4ubuntu2.6 [3,200 B]\n",
            "Get:5 http://archive.ubuntu.com/ubuntu jammy-updates/main amd64 binutils-common amd64 2.38-4ubuntu2.6 [222 kB]\n",
            "Get:6 http://archive.ubuntu.com/ubuntu jammy/universe amd64 libafterimage0 amd64 2.2.12-15 [268 kB]\n",
            "Get:7 http://archive.ubuntu.com/ubuntu jammy-updates/main amd64 libxpm-dev amd64 1:3.5.12-1ubuntu0.22.04.2 [90.7 kB]\n",
            "Fetched 3,676 kB in 3s (1,443 kB/s)\n",
            "(Reading database ... 121749 files and directories currently installed.)\n",
            "Preparing to unpack .../0-libctf0_2.38-4ubuntu2.6_amd64.deb ...\n",
            "Unpacking libctf0:amd64 (2.38-4ubuntu2.6) over (2.38-4ubuntu2.3) ...\n",
            "Preparing to unpack .../1-binutils-x86-64-linux-gnu_2.38-4ubuntu2.6_amd64.deb ...\n",
            "Unpacking binutils-x86-64-linux-gnu (2.38-4ubuntu2.6) over (2.38-4ubuntu2.3) ...\n",
            "Preparing to unpack .../2-libbinutils_2.38-4ubuntu2.6_amd64.deb ...\n",
            "Unpacking libbinutils:amd64 (2.38-4ubuntu2.6) over (2.38-4ubuntu2.3) ...\n",
            "Preparing to unpack .../3-binutils_2.38-4ubuntu2.6_amd64.deb ...\n",
            "Unpacking binutils (2.38-4ubuntu2.6) over (2.38-4ubuntu2.3) ...\n",
            "Preparing to unpack .../4-binutils-common_2.38-4ubuntu2.6_amd64.deb ...\n",
            "Unpacking binutils-common:amd64 (2.38-4ubuntu2.6) over (2.38-4ubuntu2.3) ...\n",
            "Selecting previously unselected package libafterimage0:amd64.\n",
            "Preparing to unpack .../5-libafterimage0_2.2.12-15_amd64.deb ...\n",
            "Unpacking libafterimage0:amd64 (2.2.12-15) ...\n",
            "Selecting previously unselected package libxpm-dev:amd64.\n",
            "Preparing to unpack .../6-libxpm-dev_1%3a3.5.12-1ubuntu0.22.04.2_amd64.deb ...\n",
            "Unpacking libxpm-dev:amd64 (1:3.5.12-1ubuntu0.22.04.2) ...\n",
            "Setting up libafterimage0:amd64 (2.2.12-15) ...\n",
            "Setting up binutils-common:amd64 (2.38-4ubuntu2.6) ...\n",
            "Setting up libxpm-dev:amd64 (1:3.5.12-1ubuntu0.22.04.2) ...\n",
            "Setting up libbinutils:amd64 (2.38-4ubuntu2.6) ...\n",
            "Setting up libctf0:amd64 (2.38-4ubuntu2.6) ...\n",
            "Setting up binutils-x86-64-linux-gnu (2.38-4ubuntu2.6) ...\n",
            "Setting up binutils (2.38-4ubuntu2.6) ...\n",
            "Processing triggers for libc-bin (2.35-0ubuntu3.4) ...\n",
            "/sbin/ldconfig.real: /usr/local/lib/libtbbbind_2_5.so.3 is not a symbolic link\n",
            "\n",
            "/sbin/ldconfig.real: /usr/local/lib/libtbbbind.so.3 is not a symbolic link\n",
            "\n",
            "/sbin/ldconfig.real: /usr/local/lib/libtbbbind_2_0.so.3 is not a symbolic link\n",
            "\n",
            "/sbin/ldconfig.real: /usr/local/lib/libtbbmalloc.so.2 is not a symbolic link\n",
            "\n",
            "/sbin/ldconfig.real: /usr/local/lib/libtbbmalloc_proxy.so.2 is not a symbolic link\n",
            "\n",
            "/sbin/ldconfig.real: /usr/local/lib/libtbb.so.12 is not a symbolic link\n",
            "\n",
            "Processing triggers for man-db (2.10.2-1) ...\n",
            "--2024-03-09 11:25:34--  https://root.cern/download/root_v6.30.02.Linux-ubuntu22.04-x86_64-gcc11.4.tar.gz\n",
            "Resolving root.cern (root.cern)... 188.184.49.144, 2001:1458:d00:55::100:c\n",
            "Connecting to root.cern (root.cern)|188.184.49.144|:443... connected.\n",
            "HTTP request sent, awaiting response... 200 OK\n",
            "Length: 295192639 (282M) [application/x-gzip]\n",
            "Saving to: ‘root_v6.30.02.Linux-ubuntu22.04-x86_64-gcc11.4.tar.gz’\n",
            "\n",
            "root_v6.30.02.Linux 100%[===================>] 281.52M  13.7MB/s    in 25s     \n",
            "\n",
            "2024-03-09 11:26:01 (11.1 MB/s) - ‘root_v6.30.02.Linux-ubuntu22.04-x86_64-gcc11.4.tar.gz’ saved [295192639/295192639]\n",
            "\n",
            "Collecting lmfit\n",
            "  Downloading lmfit-1.2.2-py3-none-any.whl (102 kB)\n",
            "\u001b[2K     \u001b[90m━━━━━━━━━━━━━━━━━━━━━━━━━━━━━━━━━━━━━━━━\u001b[0m \u001b[32m103.0/103.0 kB\u001b[0m \u001b[31m2.5 MB/s\u001b[0m eta \u001b[36m0:00:00\u001b[0m\n",
            "\u001b[?25hCollecting asteval>=0.9.28 (from lmfit)\n",
            "  Downloading asteval-0.9.32-py3-none-any.whl (20 kB)\n",
            "Requirement already satisfied: numpy>=1.19 in /usr/local/lib/python3.10/dist-packages (from lmfit) (1.25.2)\n",
            "Requirement already satisfied: scipy>=1.6 in /usr/local/lib/python3.10/dist-packages (from lmfit) (1.11.4)\n",
            "Collecting uncertainties>=3.1.4 (from lmfit)\n",
            "  Downloading uncertainties-3.1.7-py2.py3-none-any.whl (98 kB)\n",
            "\u001b[2K     \u001b[90m━━━━━━━━━━━━━━━━━━━━━━━━━━━━━━━━━━━━━━━━\u001b[0m \u001b[32m98.4/98.4 kB\u001b[0m \u001b[31m10.3 MB/s\u001b[0m eta \u001b[36m0:00:00\u001b[0m\n",
            "\u001b[?25hRequirement already satisfied: future in /usr/local/lib/python3.10/dist-packages (from uncertainties>=3.1.4->lmfit) (0.18.3)\n",
            "Installing collected packages: uncertainties, asteval, lmfit\n",
            "Successfully installed asteval-0.9.32 lmfit-1.2.2 uncertainties-3.1.7\n",
            "Welcome to JupyROOT 6.30/02\n"
          ]
        }
      ],
      "source": [
        "!apt-get install dpkg-dev cmake g++ gcc binutils libx11-dev libxpm-dev libxft-dev libxext-dev python3 libssl-dev libafterimage0\n",
        "!wget https://root.cern/download/root_v6.30.02.Linux-ubuntu22.04-x86_64-gcc11.4.tar.gz\n",
        "!tar -xzf root_v6.30.02.Linux-ubuntu22.04-x86_64-gcc11.4.tar.gz\n",
        "!pip install lmfit\n",
        "import numpy as np\n",
        "import matplotlib.pyplot as plt\n",
        "\n",
        "# Set the environment variables.\n",
        "import os\n",
        "os.environ[\"ROOTSYS\"] = \"/content/root/\"\n",
        "\n",
        "import sys\n",
        "sys.path.append(\"/content/root/lib\")\n",
        "\n",
        "import ctypes\n",
        "ctypes.cdll.LoadLibrary('/content/root/lib/libCore.so')\n",
        "ctypes.cdll.LoadLibrary('/content/root/lib/libThread.so')\n",
        "ctypes.cdll.LoadLibrary('/content/root/lib/libImt.so')\n",
        "ctypes.cdll.LoadLibrary('/content/root/lib/libRIO.so')\n",
        "ctypes.cdll.LoadLibrary('/content/root/lib/libNet.so')\n",
        "ctypes.cdll.LoadLibrary('/content/root/lib/libTree.so')\n",
        "ctypes.cdll.LoadLibrary('/content/root/lib/libMathCore.so')\n",
        "ctypes.cdll.LoadLibrary('/content/root/lib/libMatrix.so')\n",
        "ctypes.cdll.LoadLibrary('/content/root/lib/libHist.so')\n",
        "ctypes.cdll.LoadLibrary('/content/root/lib/libGeom.so')\n",
        "ctypes.cdll.LoadLibrary('/content/root/lib/libXMLIO.so')\n",
        "ctypes.cdll.LoadLibrary('/content/root/lib/libGdml.so')\n",
        "ctypes.cdll.LoadLibrary('/content/root/lib/libGraf.so')\n",
        "ctypes.cdll.LoadLibrary('/content/root/lib/libGpad.so')\n",
        "ctypes.cdll.LoadLibrary('/content/root/lib/libGraf3d.so')\n",
        "ctypes.cdll.LoadLibrary('/content/root/lib/libcppyy_backend3_10.so')\n",
        "import numpy\n",
        "import ROOT"
      ]
    },
    {
      "cell_type": "markdown",
      "metadata": {
        "id": "JX1OpRmTwNth"
      },
      "source": [
        "## Istogrammi\n",
        "\n",
        "È possibile difinire un istogramma (un oggetto di tipo istogramma) come\n",
        "\n",
        "\n",
        "`h = ROOT.TH1F(\"gauss\",\"Example histogram; asseX; asseY\",100,-4,4)`\n",
        "\n",
        "Questa istruzione definisce un istogramma 1D che puo' essere riempito con valori float (TH1F). Il nome dell'oggetto sarà \"gaus\", i titolo \"Example histogram\". Dopo il prim `;` potete inserire il nome dell' asse X e analogamente la stringa dopo il secondo `;` sarà il nome dell' asse Y.\n",
        "I valori successivi indicano che l'istogramma sarà composto da 100 bin tra il valore -4 e il valore +4.\n",
        "\n",
        "\n",
        "Oggetti della classe TH1F hanno molteplici Metodi (la documentazione è consultabile qui https://root.cern.ch/doc/master/classTH1F.html\n",
        "\n",
        "\n",
        "Tra i vari metodi FillRandom() puo' essere utilizzato per riempire l'istogramma con eventi estratti casualmente da una distribuzione di probabilità di una data funzione. Ad esempio, per una distribuzione normale dalla quale voglio estrarre in modo casuale 10000 eventi e metterli nell'istogramma che abbiamo definito possiamo semplicemente scrivere\n",
        "\n",
        "\n",
        "`h.FillRandom(\"gaus\",10000)`\n",
        "\n",
        "Per ottenere visivamente l'istogramma, definiamo una finestra (ovvero un oggetto della classe TCanvas) di cui dobbiamo specificare: nome, titolo , pixel x , pixel y.\n",
        "\n",
        "#definisco una canvas (finestra) dove poter poi disegnare l'istogramma\n",
        "`c = ROOT.TCanvas(\"myCanvasName\",\"The Canvas Title\",800,600)`\n",
        "\n",
        "Infine ci basta utilizzare i metodi che permettono di disegnare histogramma nella canvas e la canvas a schermo\n",
        "```\n",
        "h.Draw()\n",
        "c.Draw()\n",
        "```"
      ]
    },
    {
      "cell_type": "code",
      "execution_count": null,
      "metadata": {
        "colab": {
          "base_uri": "https://localhost:8080/",
          "height": 589
        },
        "id": "F5-6edGfjniy",
        "outputId": "03c487ec-834d-42b0-8486-095a2223c44e"
      },
      "outputs": [
        {
          "output_type": "display_data",
          "data": {
            "image/png": "[encoded data removed]",
            "text/plain": [
              "<IPython.core.display.Image object>"
            ]
          },
          "metadata": {}
        }
      ],
      "source": [
        "h = ROOT.TH1F(\"gauss\",\"Example histogram; asseX; asseY\",100,-4,4)\n",
        "h.FillRandom(\"gaus\",10000)\n",
        "\n",
        "c = ROOT.TCanvas(\"myCanvasName\",\"The Canvas Title\",800,600)\n",
        "h.Draw()\n",
        "c.Draw()\n",
        "\n"
      ]
    },
    {
      "cell_type": "markdown",
      "metadata": {
        "id": "JlRjaRB0wZgh"
      },
      "source": [
        "##Funzioni\n",
        "In ROOT è possibile definire delle funzioni 1D \"custom\" per poter poi eseguire dei fit su dati sperimentali definendo oggetti della classe TF1 (https://root.cern.ch/doc/master/classTF1.html).\n",
        "\n",
        "Vediamo alcuni esempi:\n",
        "\n",
        "`fa =  ROOT.TF1(\"fa\",\"[0]*x*sin([1]*x)\",-3,3)`\n",
        "\n",
        "\n",
        "definisce una funzione del tipo $a\\cdot x \\cdot sin(b\\cdot x) $ dove $a$=[0] e $b$=[1] sono variabili che devono essere dichiarate o possono essere ricavate a seguito dei un fit.\n"
      ]
    },
    {
      "cell_type": "code",
      "execution_count": null,
      "metadata": {
        "colab": {
          "base_uri": "https://localhost:8080/",
          "height": 589
        },
        "id": "kWQHIS-dGLAw",
        "outputId": "b1eaf0e6-103f-4a53-dc31-169269c86da5"
      },
      "outputs": [
        {
          "output_type": "display_data",
          "data": {
            "image/png": "[encoded data removed]",
            "text/plain": [
              "<IPython.core.display.Image object>"
            ]
          },
          "metadata": {}
        }
      ],
      "source": [
        "fa = ROOT.TF1(\"fa\",\"[0]*x*sin([1]*x)\",-3,3)\n",
        "fa.SetParameters(1,2)   # inizializziamo il parametro [0] a 1 ed il paramtreo [1] a 2\n",
        "fa.Draw()\n",
        "c.Draw()"
      ]
    },
    {
      "cell_type": "code",
      "source": [
        "fa1 = ROOT.TF1(\"fa1\",\"[0]*x+gaus(1)\",-10,10)\n",
        "fa1.SetParameters(1,3,0,1)   # inizializziamo il parametro [0] a 1 ed il paramtreo [1] a 2\n",
        "fa1.Draw()\n",
        "c.Draw()"
      ],
      "metadata": {
        "colab": {
          "base_uri": "https://localhost:8080/",
          "height": 589
        },
        "id": "bTJp5sJVHUy8",
        "outputId": "c2a8c9ad-e1e6-42d0-e0ed-b7f8c0ec7f2f"
      },
      "execution_count": null,
      "outputs": [
        {
          "output_type": "display_data",
          "data": {
            "image/png": "[encoded data removed]",
            "text/plain": [
              "<IPython.core.display.Image object>"
            ]
          },
          "metadata": {}
        }
      ]
    },
    {
      "cell_type": "markdown",
      "source": [
        "##Fit a istogrammi\n",
        "Abbiamo introdotto istogrammi e funzioni. vediamo come poter eseguire il fit all'istogramma ricavato in precedenza.\n",
        "\n"
      ],
      "metadata": {
        "id": "0AGB9oGLzcix"
      }
    },
    {
      "cell_type": "code",
      "source": [
        "h.Fit(\"gaus\")\n",
        "h.Draw()\n",
        "ROOT.gStyle.SetOptFit(1)\n",
        "c.Draw()"
      ],
      "metadata": {
        "colab": {
          "base_uri": "https://localhost:8080/",
          "height": 750
        },
        "id": "RWYNbXAc066h",
        "outputId": "95d25438-8989-48b7-9963-f294580be71c"
      },
      "execution_count": null,
      "outputs": [
        {
          "output_type": "stream",
          "name": "stdout",
          "text": [
            "****************************************\n",
            "Minimizer is Minuit2 / Migrad\n",
            "Chi2                      =      60.2811\n",
            "NDf                       =           86\n",
            "Edm                       =  1.41941e-06\n",
            "NCalls                    =           55\n",
            "Constant                  =       317.92   +/-   3.94615     \n",
            "Mean                      =    0.0110091   +/-   0.0100621   \n",
            "Sigma                     =     0.998511   +/-   0.00735736   \t (limited)\n"
          ]
        },
        {
          "output_type": "display_data",
          "data": {
            "image/png": "[encoded data removed]",
            "text/plain": [
              "<IPython.core.display.Image object>"
            ]
          },
          "metadata": {}
        }
      ]
    },
    {
      "cell_type": "code",
      "source": [
        "h.Fit(\"fa1\",\"NRE\")\n",
        "h.Draw()\n",
        "ROOT.gStyle.SetOptFit(1)\n",
        "c.Draw()"
      ],
      "metadata": {
        "colab": {
          "base_uri": "https://localhost:8080/",
          "height": 768
        },
        "id": "mi7w9t74aMxF",
        "outputId": "42d4f4c3-1055-4a86-d2e3-41e47de25563"
      },
      "execution_count": null,
      "outputs": [
        {
          "output_type": "stream",
          "name": "stdout",
          "text": [
            "****************************************\n",
            "Minimizer is Minuit2 / Migrad\n",
            "Chi2                      =      59.6171\n",
            "NDf                       =           85\n",
            "Edm                       =  2.05548e-08\n",
            "NCalls                    =          249\n",
            "p0                        =    0.0766801   +/-   0.0941222     -0.0941053   +0.0941399    (Minos) \n",
            "p1                        =      317.898   +/-   3.94586       -3.93799     +3.95332      (Minos) \n",
            "p2                        =   0.00834104   +/-   0.010575      -0.0105748   +0.0105761    (Minos) \n",
            "p3                        =     0.998611   +/-   0.00735769    -0.00737262  +0.00734241   (Minos) \n"
          ]
        },
        {
          "output_type": "display_data",
          "data": {
            "image/png": "[encoded data removed]",
            "text/plain": [
              "<IPython.core.display.Image object>"
            ]
          },
          "metadata": {}
        }
      ]
    },
    {
      "cell_type": "markdown",
      "metadata": {
        "id": "CI_xbQzAwVOn"
      },
      "source": [
        "##Grafici\n",
        "Se avete bisogno di visualizzare una serie di misure sperimentali caratterizzate, ad esempio, da valore di una variabile indipendente e una dipendente, è possibile utilizzare oggetti della classe TGraph di ROOT.\n",
        "A seconda se abbiate punti sperimentali senza incertezze (improbabile), con incertezze simmetriche o con incertezze asimmetriche, potete utilizzare Classi leggermente differenti\n"
      ]
    },
    {
      "cell_type": "code",
      "source": [],
      "metadata": {
        "colab": {
          "base_uri": "https://localhost:8080/"
        },
        "id": "Cr1bqE51v04p",
        "outputId": "ca90de70-8b71-4173-cfd2-9abce43f1535"
      },
      "execution_count": null,
      "outputs": [
        {
          "output_type": "stream",
          "name": "stdout",
          "text": [
            "****************************************\n",
            "Minimizer is Minuit2 / Migrad\n",
            "Chi2                      =      59.6171\n",
            "NDf                       =           85\n",
            "Edm                       =  2.05548e-08\n",
            "NCalls                    =          249\n",
            "p0                        =    0.0766801   +/-   0.0941222     -0.0941053   +0.0941399    (Minos) \n",
            "p1                        =      317.898   +/-   3.94586       -3.93799     +3.95332      (Minos) \n",
            "p2                        =   0.00834104   +/-   0.010575      -0.0105748   +0.0105761    (Minos) \n",
            "p3                        =     0.998611   +/-   0.00735769    -0.00737262  +0.00734241   (Minos) \n"
          ]
        }
      ]
    },
    {
      "cell_type": "code",
      "source": [
        "##Esempio grafico senza incertezze\n",
        "\n",
        "x=[1.,3.,5,6,10]\n",
        "y=[3.,6.,5,7,15]\n",
        "x=numpy.array( x )\n",
        "y=numpy.array( y )\n",
        "\n",
        "\n",
        "gr=ROOT.TGraph(len(x),x,y)\n",
        "gr.SetMarkerStyle(21)\n",
        "gr.SetTitle(\"Graph title;X title;Y title\");\n",
        "gr.Draw(\"AP\")\n",
        "c.Draw()\n"
      ],
      "metadata": {
        "colab": {
          "base_uri": "https://localhost:8080/",
          "height": 589
        },
        "id": "Ll74xOAds_GD",
        "outputId": "8c8c48be-9aa2-4c64-9163-8863d69d24b7"
      },
      "execution_count": null,
      "outputs": [
        {
          "output_type": "display_data",
          "data": {
            "image/png": "[encoded data removed]",
            "text/plain": [
              "<IPython.core.display.Image object>"
            ]
          },
          "metadata": {}
        }
      ]
    },
    {
      "cell_type": "code",
      "source": [
        "##Esempio grafico con incertezze simmetriche\n",
        "\n",
        "import numpy\n",
        "\n",
        "\n",
        "x=[1.,3.,5,6,10]\n",
        "y=[3.,6.,5,7,15]\n",
        "ex=[0.2,0.2,0.5,0.3,0.3]\n",
        "ey=[0.2,0.4,0.5,0.4,0.1]\n",
        "\n",
        "x=numpy.array( x )\n",
        "y=numpy.array( y )\n",
        "ex=numpy.array( ex )\n",
        "ey=numpy.array( ey )\n",
        "\n",
        "gr_e=ROOT.TGraphErrors(len(x),x,y,ex,ey)\n",
        "gr_e.SetMarkerStyle(21)\n",
        "gr_e.SetTitle(\"Graph title;X title;Y title\");\n",
        "gr_e.Draw(\"AP\")\n",
        "c.Draw()"
      ],
      "metadata": {
        "colab": {
          "base_uri": "https://localhost:8080/",
          "height": 589
        },
        "id": "yg6uQz_ywu-H",
        "outputId": "7be2880c-5025-4739-a62a-44e0cb223bde"
      },
      "execution_count": null,
      "outputs": [
        {
          "output_type": "display_data",
          "data": {
            "image/png": "[encoded data removed]",
            "text/plain": [
              "<IPython.core.display.Image object>"
            ]
          },
          "metadata": {}
        }
      ]
    },
    {
      "cell_type": "code",
      "source": [
        "##Esempio grafico con incertezze asimmetriche\n",
        "\n",
        "import numpy\n",
        "\n",
        "\n",
        "x=[1.,3.,5,6,10]\n",
        "y=[3.,6.,5,7,15]\n",
        "ex_up=[0.2,0.2,0.5,0.3,0.3]\n",
        "ex_dw=[0.1,0.4,0.2,0.1,0.5]\n",
        "ey_up=[0.2,0.4,0.5,0.4,0.1]\n",
        "ey_dw=[0.1,0.1,0.6,0.2,0.3]\n",
        "\n",
        "\n",
        "x=numpy.array( x )\n",
        "y=numpy.array( y )\n",
        "ex_up=numpy.array( ex_up )\n",
        "ex_dw=numpy.array( ex_dw )\n",
        "ey_up=numpy.array( ey_up )\n",
        "ey_dw=numpy.array( ey_dw )\n",
        "\n",
        "\n",
        "gr_ea=ROOT.TGraphAsymmErrors(len(x),x,y,ex_up,ex_dw,ey_up,ey_dw)\n",
        "gr_ea.SetMarkerStyle(21)\n",
        "gr_ea.SetTitle(\"Graph title;X title;Y title\");\n",
        "gr_ea.Draw(\"AP\")\n",
        "c.Draw()"
      ],
      "metadata": {
        "colab": {
          "base_uri": "https://localhost:8080/",
          "height": 589
        },
        "id": "GwN0elLuxJ2-",
        "outputId": "7e83fe57-5165-41e8-f983-e18e9705d8bb"
      },
      "execution_count": null,
      "outputs": [
        {
          "output_type": "display_data",
          "data": {
            "image/png": "[encoded data removed]",
            "text/plain": [
              "<IPython.core.display.Image object>"
            ]
          },
          "metadata": {}
        }
      ]
    },
    {
      "cell_type": "markdown",
      "source": [
        "Eseguiamo quindi un fit lineare sui dati rappresentati nel grafico"
      ],
      "metadata": {
        "id": "MHgmLzSVg1uB"
      }
    },
    {
      "cell_type": "code",
      "source": [
        "linear = ROOT.TF1(\"linear\",\"[0]+[1]*x\",-1,12)     #definisco la retta\n",
        "linear.SetParameters(2,1)\n",
        "gr_ea.Fit(\"linear\",\"NRE\")\n",
        "ROOT.gStyle.SetOptFit(1111)\n",
        "gr_ea.Draw(\"AP\")\n",
        "linear.Draw(\"same\")\n",
        "c.Draw()\n",
        "\n",
        "print(\"Parameter 0: \",linear.GetParameter(0))\n",
        "print(\"Parameter 0 error : \",linear.GetParError(0))\n",
        "\n",
        "print(\"Parameter 1: \",linear.GetParameter(1))\n",
        "print(\"Parameter 1 error : \",linear.GetParError(1))\n",
        "\n",
        "print(\"Fit Chi2: \",linear.GetChisquare(1))\n",
        "print(\"Parameter 1 error : \",linear.GetParError(1))\n"
      ],
      "metadata": {
        "colab": {
          "base_uri": "https://localhost:8080/",
          "height": 803
        },
        "id": "uhZpyOgFg1Ga",
        "outputId": "02113372-dd71-42f6-e83a-112f2cd775b6"
      },
      "execution_count": null,
      "outputs": [
        {
          "output_type": "stream",
          "name": "stdout",
          "text": [
            "Parameter 0:  1.137376348685892\n",
            "Parameter 0 error :  0.2796656194542454\n",
            "Parameter 1:  1.2256031785623733\n",
            "Parameter 1 error :  0.05284618820154272\n",
            "****************************************\n",
            "Minimizer is Minuit2 / Migrad\n",
            "Chi2                      =      52.2187\n",
            "NDf                       =            3\n",
            "Edm                       =  3.08033e-06\n",
            "NCalls                    =           39\n",
            "p0                        =      1.13738   +/-   0.279666      -0.285332    +0.274622     (Minos) \n",
            "p1                        =       1.2256   +/-   0.0528462     -0.0510456   +0.0548303    (Minos) \n"
          ]
        },
        {
          "output_type": "display_data",
          "data": {
            "image/png": "[encoded data removed]",
            "text/plain": [
              "<IPython.core.display.Image object>"
            ]
          },
          "metadata": {}
        }
      ]
    },
    {
      "cell_type": "markdown",
      "metadata": {
        "id": "erQ0c2mEwely"
      },
      "source": [
        "##Analizzare dei dati salvati su un file .csv\n",
        "Supponiamo di raccogliere i nostri dati sperimentali e di scriverli su di un file con estensione .csv (coma separated values). Ricordatevi che i valori devono avere come separatore decimale il punto.\n",
        "\n",
        "Una volta salvato il vostro file, caricatelo su colab\n",
        "\n",
        "![Screenshot 2024-03-01 at 11.58.51.png](data:image/png;base64,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)\n",
        "\n",
        "![Screenshot 2024-03-01 at 11.59.14.png](data:image/png;base64,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)"
      ]
    },
    {
      "cell_type": "markdown",
      "source": [
        "NB alla fine della sessione i dati caricati verranno eliminati da colab, quindi assicuratevi che il vostro file di dati sia salvato anche altrove.\n",
        "Il file che abbiamo caricato nel nostro caso si chiama \"test.csv\". Usiamo quindi carichiamo i moduli necessarie procediamo"
      ],
      "metadata": {
        "id": "5tRgJaCcsWIr"
      }
    },
    {
      "cell_type": "code",
      "source": [
        "##eseguiamo l'import dei moduli\n",
        "\n",
        "import numpy as np\n"
      ],
      "metadata": {
        "id": "5fAg4EyNtowZ"
      },
      "execution_count": null,
      "outputs": []
    },
    {
      "cell_type": "code",
      "source": [
        "filename=\"test.csv\"\n",
        "data = np.genfromtxt(filename, delimiter=',', skip_header=1, skip_footer=0)\n",
        "\n",
        "V,I = data[:,0],data[:,1]\n",
        "print(V)\n",
        "print(I)\n"
      ],
      "metadata": {
        "id": "YHUL3DGYtwFW",
        "colab": {
          "base_uri": "https://localhost:8080/"
        },
        "outputId": "891ef38c-1554-4509-9bc6-4397b1ce0d97"
      },
      "execution_count": null,
      "outputs": [
        {
          "output_type": "stream",
          "name": "stdout",
          "text": [
            "[ 3.  4.  5.  7. 10. 13. 14. 16. 18. 22. 27.]\n",
            "[0.0302 0.0403 0.0504 0.0702 0.0992 0.1309 0.1397 0.1605 0.1794 0.2184\n",
            " 0.2681]\n"
          ]
        }
      ]
    },
    {
      "cell_type": "code",
      "source": [
        "#Proviamo quindi a costruire un grafico\n",
        "c = ROOT.TCanvas(\"myCanvasName\",\"The Canvas Title\",800,600)\n",
        "V=numpy.array( V )\n",
        "I=numpy.array( I )\n",
        "gr=ROOT.TGraph(len(V),V,I)\n",
        "gr.SetMarkerStyle(21)\n",
        "gr.SetTitle(\"Graph title;tensione[V];corrente[A]\");\n",
        "gr.Draw(\"AP\")\n",
        "c.Draw()"
      ],
      "metadata": {
        "colab": {
          "base_uri": "https://localhost:8080/",
          "height": 607
        },
        "id": "e3df4Zi3wP0V",
        "outputId": "c9e42102-f159-4d24-fa8a-b8378b925310"
      },
      "execution_count": null,
      "outputs": [
        {
          "output_type": "stream",
          "name": "stderr",
          "text": [
            "Warning in <TCanvas::Constructor>: Deleting canvas with same name: myCanvasName\n"
          ]
        },
        {
          "output_type": "display_data",
          "data": {
            "image/png": "[encoded data removed]",
            "text/plain": [
              "<IPython.core.display.Image object>"
            ]
          },
          "metadata": {}
        }
      ]
    },
    {
      "cell_type": "code",
      "source": [
        "## Se non vi dovesse  piacere l'intervallo x-y scelto\n",
        "##automaticamente per discegnarvi i vostri punti,\n",
        "## potete creare un istogramma 2D vuoto e disegnarci sopra il grafico\n",
        "\n",
        "h2d=ROOT.TH2F(\"frame\",\"NOME;tensione [V];corrente[A]\",10,0,40,10,-0.2,0.5)\n",
        "h2d.Draw()\n",
        "ROOT.gStyle.SetOptStat(000000) #fa sparire il box con le info statistiche\n",
        "                               # dell'istogramma 2D\n",
        "gr.Draw(\"Psame\")\n",
        "c.Draw()\n"
      ],
      "metadata": {
        "id": "XjCy5cWRyEwV",
        "colab": {
          "base_uri": "https://localhost:8080/",
          "height": 607
        },
        "outputId": "ed9ee86e-2346-408b-9c25-c1c2b49680bc"
      },
      "execution_count": null,
      "outputs": [
        {
          "output_type": "stream",
          "name": "stderr",
          "text": [
            "Warning in <TROOT::Append>: Replacing existing TH1: frame (Potential memory leak).\n"
          ]
        },
        {
          "output_type": "display_data",
          "data": {
            "image/png": "[encoded data removed]",
            "text/plain": [
              "<IPython.core.display.Image object>"
            ]
          },
          "metadata": {}
        }
      ]
    },
    {
      "cell_type": "code",
      "source": [
        "# per scrivere del testo sul vostro grafico, potete usare:\n",
        "l=ROOT.TLatex()\n",
        "l.SetNDC()\n",
        "l.SetTextSize(0.025)\n",
        "l.SetTextFont(42)\n",
        "l.DrawLatex(0.3,0.3,\"ciao\")   #x, y,  testo\n",
        "l.DrawLatex(0.3,0.27,\"ciao\")  #x, y,  testo\n"
      ],
      "metadata": {
        "id": "cgJxBQUMgXxL",
        "colab": {
          "base_uri": "https://localhost:8080/"
        },
        "outputId": "1a13c1ae-fb3c-460a-f17a-ff1da3b35a54"
      },
      "execution_count": null,
      "outputs": [
        {
          "output_type": "execute_result",
          "data": {
            "text/plain": [
              "<cppyy.gbl.TLatex object at 0x5c0310fee930>"
            ]
          },
          "metadata": {},
          "execution_count": 53
        }
      ]
    },
    {
      "cell_type": "code",
      "source": [
        "c.Draw()\n"
      ],
      "metadata": {
        "colab": {
          "base_uri": "https://localhost:8080/",
          "height": 589
        },
        "id": "nM2WcR0kDihR",
        "outputId": "2dc096a7-d0f2-441a-9cbb-ee886eb8fd4f"
      },
      "execution_count": null,
      "outputs": [
        {
          "output_type": "display_data",
          "data": {
            "image/png": "[encoded data removed]",
            "text/plain": [
              "<IPython.core.display.Image object>"
            ]
          },
          "metadata": {}
        }
      ]
    },
    {
      "cell_type": "code",
      "source": [],
      "metadata": {
        "id": "u--OwV_KDwfG"
      },
      "execution_count": null,
      "outputs": []
    }
  ],
  "metadata": {
    "colab": {
      "provenance": [],
      "include_colab_link": true
    },
    "kernelspec": {
      "display_name": "Python 3",
      "name": "python3"
    },
    "language_info": {
      "name": "python"
    }
  },
  "nbformat": 4,
  "nbformat_minor": 0
}