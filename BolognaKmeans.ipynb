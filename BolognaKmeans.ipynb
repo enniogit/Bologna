{
 "cells": [
  {
   "attachments": {
    "image.png": {
      "image/png": ""    }
   },
   "cell_type": "markdown",
   "metadata": {},
   "source": [
    "![image.png](attachment:image.png)\n",
    "\n",
    "By Ennio Picarelli \n",
    "## Part 1 - Classical Calculation"
   ]
  },
  {
   "cell_type": "markdown",
   "metadata": {},
   "source": [
    "## Let's have a look at K-means\talgorithm\n",
    "\n",
    "K-means is an unsupervised machine learning algorithm to identify homogeneous groups in a data set. Not supervised because the training phase of the model does not involve the use of labelled data but the recognition of groups occurs autonomously. The fields of application are numerous and vary from the recognition of similar behaviors in consumers (market segmentation) aimed at the design of customized marketing campaigns, to the grouping of documents that talk about the same topic (cluster), to the reduction of the size of image files through the reduction of basic colors, etc.. \n",
    "\n",
    "In this work we will show an application of K-means in the classification of data starting from the use of classical libraries present on Python and arriving at the use of a quantum circuit that promises a significant theoretical processing speed-up. \n",
    "\n",
    "In extreme synthesis, the algorithm is based on the identification of an optimal number of groups in which to divide the data, on the iterative identification of the centers (centroids) of these groups in the n-dimensional space of the features of the data and on the contextual association of the same data to the various groups. The algorithm is iterative and starts from an initial random assignment of the centroids, then groups the data for greater proximity to the centroids, recalculates the new centroids as the midpoint, for each group, of the data belonging to it and starts again. When the position of the centroids and the belonging of the data to the groups does not vary, it is assumed that the algorithm converges.\n",
    "\n",
    "The objective of K-means optimization is to minimize the quadratic error of the dispersion of the points with respect to the centroids, which is equivalent to minimizing the Euclidean distance from the centroids themselves. In the following we will see some mathematical details of the algorithm. "
   ]
  },
  {
   "attachments": {
    "image.png": {
    }
   },
   "cell_type": "markdown",
   "metadata": {},
   "source": [
    "$x^{(i)}\\ with\\ i\\ from\\ 1\\ to\\ m\\ =\\ number\\ of\\ example\\ data$\n",
    "\n",
    "$c^{(i)}=index\\ of\\ cluster\\ (1,2,3,..K)\\ to\\ which\\ example\\ datum\\ x^{(i)}\\ has\\ been\\ assigned \\ (closest\\ to\\  x^{(i)})$\n",
    "\n",
    "$\\mu_k=\\ k-th \\ \\ cluster\\ centroid (\\mu_k \\in R^n)$\n",
    "\n",
    "$\\mu_c^{(i)}=\\ centroid\\ of\\ cluster\\ to\\ which\\ example\\ has\\ been\\ assigned$\n",
    "\n",
    "Optimization\\ Objective\n",
    "\n",
    "$J(c^{(i)},...,c^{(m)},\\mu_1,...,\\mu_K)=\\frac{1}{m} \\sum_{i=1}^{m}||{x^{(i)}-\\mu_c^{(i)}}||^2$\n",
    "\n",
    "$\\ \\ min\\ J(c^{(i)},...,c^{(m)},\\mu_1,...,\\mu_K)\\$\n",
    "\n",
    "$c^{(i)},...,c^{(m)}$\n",
    "\n",
    "$\\mu_1,...,\\mu_K$\n",
    "\n",
    "Randomly initialize $ k$ Cluster Centroids: $\\mu_1,\\mu_2,\\mu_3,\\mu_k \\in R^n\\ then$\n",
    "\n",
    "$Repeat \\{ $\n",
    "\n",
    "$      \\quad \\ For\\ i=1\\ to\\ m$\n",
    "\n",
    "$      \\quad\\quad \\ \\ \\ c^{(i)}:=index\\ (from\\ 1\\ to\\ k)\\ of\\ cluster\\ centroid\\ closest\\ to\\ x^{(i)}$\n",
    "\n",
    "$      \\quad\\quad \\ For\\ k=1\\ to\\ K$\n",
    "\n",
    "$      \\quad\\quad\\quad\\ \\ \\ \\mu_k:=average(mean)\\ of\\ points\\ assigned\\ to\\ cluster$\n",
    "\n",
    "$\\}$\n",
    "\n",
    "The right definition of the K number of centroids can be supported by means of some tools, the most common is the \n",
    "Elbow method\n",
    "![image.png](attachment:image.png)\n",
    "\n",
    "In this method the value of J is calculated for various numbers of K and the elbow point of the curve will be choosen as the right K value for calculation (in the curve case the value is 2)."
   ]
  },
  {
   "cell_type": "markdown",
   "metadata": {},
   "source": [
    "# Example of classic clustering and quantum dataset setup\n",
    "Clustering is performed on sample data from public datasets on Kaggle related to market segmentation.\n",
    "Clustering is first performed on normal Cartesian coordinates.\n",
    "Clustering Cartesian coordinates are the two parameters of __annual income__ and __spending score__\n",
    "The Elbow method is also used to determine the optimal number of clusters.\n",
    "The calculation is then repeated by transforming the calculating dataset:\n",
    "\n",
    "Theta = arctan(annual income/spending score)*10000$\n",
    "\n",
    "(Multiplies by 10,000 to improve accuracy)\n",
    "\n",
    "Then clustering is performed with respect to the dimensions __customer ID__ and __Theta__\n",
    "\n",
    "It is observed that both the number of clusters and the clustering maintain the topological validity\n",
    "\n",
    "20 points are chosen to perform the quantum calculation (only 20 points are chosen to avoid processing too long)"
   ]
  },
  {
   "cell_type": "code",
   "execution_count": null,
   "metadata": {},
   "outputs": [],
   "source": [
    "#importing the libraries\n",
    "import numpy as np # linear algebra\n",
    "import pandas as pd # data processing, CSV file I/O (e.g. pd.read_csv)\n",
    "import matplotlib.pyplot as plt #Data Visualization \n",
    "import seaborn as sns  #Python library for Vidualization"
   ]
  },
  {
   "cell_type": "code",
   "execution_count": null,
   "metadata": {},
   "outputs": [],
   "source": [
    "df_data_3 = pd.read_csv('DataForQComparison.csv')\n",
    "df_data_3.head()\n",
    "dataset=df_data_3"
   ]
  },
  {
   "cell_type": "markdown",
   "metadata": {},
   "source": [
    "## Data verification and creation of the Theta column\n",
    "The most relevant features for data clusterization are Spending Score and the Annual Income and therefore we decide to derive a new characteristic that is related to the ratio between these two parameters. In particular the derivate feature will be the arctangent of the ratio."
   ]
  },
  {
   "cell_type": "code",
   "execution_count": null,
   "metadata": {},
   "outputs": [],
   "source": [
    "#total rows and colums in the dataset\n",
    "dataset.shape"
   ]
  },
  {
   "cell_type": "code",
   "execution_count": null,
   "metadata": {},
   "outputs": [],
   "source": [
    "#add theta angle for only 2 features (Annual income and Spending Score)\n",
    "dataset['Theta']=np.arctan(dataset['Annual Income_k$'].values.astype(int)/dataset['Spending Score_1_to_100'].values.astype(int))*10000\n",
    "dataset['ID']=dataset.reset_index().index\n",
    "dataset.head(10)"
   ]
  },
  {
   "cell_type": "markdown",
   "metadata": {},
   "source": [
    "## Data display of the model to be clustered"
   ]
  },
  {
   "cell_type": "code",
   "execution_count": null,
   "metadata": {},
   "outputs": [],
   "source": [
    "### Feature sleection for the model\n",
    "#Considering only 2 features (Annual income and Spending Score) and no Label available\n",
    "X= dataset.iloc[:, [0,1]].values.astype(int)"
   ]
  },
  {
   "cell_type": "code",
   "execution_count": null,
   "metadata": {},
   "outputs": [],
   "source": [
    "#Visualizing data\n",
    "\n",
    "plt.figure(figsize=(20,10))\n",
    "plt.scatter(X[:, 0], X[:, 1], s = 50, c = 'black', label = 'Sample')\n",
    "plt.title('Clusters of customers')\n",
    "plt.xlabel('Annual Income (k$)')\n",
    "plt.ylabel('Spending Score (1-100)')\n",
    "plt.legend()\n",
    "plt.grid()\n",
    "plt.show()"
   ]
  },
  {
   "cell_type": "markdown",
   "metadata": {},
   "source": [
    "# Model transformation by switching to Theta + customer ID\n",
    "Now we will show that the clusterization doesn't change if we substitute the previous features with Theta + Customer ID"
   ]
  },
  {
   "cell_type": "code",
   "execution_count": null,
   "metadata": {},
   "outputs": [],
   "source": [
    "### Feature sleection for the model\n",
    "#Considering only 2 features (ID + Theta) and no Label available\n",
    "X= dataset.iloc[:, [3,2]].values.astype(float)"
   ]
  },
  {
   "cell_type": "code",
   "execution_count": null,
   "metadata": {},
   "outputs": [],
   "source": [
    "#Visualizing data\n",
    "\n",
    "plt.figure(figsize=(20,10))\n",
    "plt.scatter(X[:, 0], X[:, 1], s = 50, c = 'black', label = 'Sample')\n",
    "plt.title('Clusters of customers (Theta Mode)')\n",
    "plt.xlabel('Customer')\n",
    "plt.ylabel('Theta')\n",
    "plt.legend()\n",
    "plt.grid()\n",
    "plt.show()"
   ]
  },
  {
   "cell_type": "markdown",
   "metadata": {},
   "source": [
    "## Creating the model with sklearn\n",
    "First of all we must find the right K value"
   ]
  },
  {
   "cell_type": "code",
   "execution_count": null,
   "metadata": {},
   "outputs": [],
   "source": [
    "#Building the Model\n",
    "#KMeans Algorithm to decide the optimum cluster number , KMeans++ using Elbow Mmethod\n",
    "#to figure out K for KMeans, I will use ELBOW Method on KMEANS++ Calculation\n",
    "from sklearn.cluster import KMeans\n",
    "wcss=[]\n",
    "\n",
    "#we always assume the max number of cluster would be 10\n",
    "#you can judge the number of clusters by doing averaging\n",
    "###Static code to get max no of clusters\n",
    "\n",
    "for i in range(1,21):\n",
    "    kmeans = KMeans(n_clusters= i, init='k-means++', random_state=42,max_iter=10000,tol=0.000001)\n",
    "    kmeans.fit(X)\n",
    "    wcss.append(kmeans.inertia_)\n",
    "\n",
    "    #inertia_ is the formula used to segregate the data points into clusters"
   ]
  },
  {
   "cell_type": "markdown",
   "metadata": {},
   "source": [
    "## The elbow of the curve is corresponding to 3 clusters so we will build the model for K=3"
   ]
  },
  {
   "cell_type": "code",
   "execution_count": null,
   "metadata": {},
   "outputs": [],
   "source": [
    "#Visualizing the ELBOW method to get the optimal value of K \n",
    "plt.figure(figsize=(20,10))\n",
    "plt.plot(range(1,21), wcss)\n",
    "plt.title('The Elbow Method')\n",
    "plt.xlabel('no of clusters')\n",
    "plt.ylabel('wcss')\n",
    "plt.show()"
   ]
  },
  {
   "cell_type": "markdown",
   "metadata": {},
   "source": [
    "## Clustering on reduced data and standard features"
   ]
  },
  {
   "cell_type": "code",
   "execution_count": null,
   "metadata": {},
   "outputs": [],
   "source": [
    "#If you zoom out this curve then you will see that last elbow comes at k=3\n",
    "\n",
    "#Model Build\n",
    "kmeansmodel = KMeans(n_clusters= 3, init='k-means++', random_state=42,max_iter=100000,tol=0.00000001, verbose=0)\n",
    "y_kmeans= kmeansmodel.fit_predict(X)\n",
    "kmeans= kmeansmodel.fit(X)"
   ]
  },
  {
   "cell_type": "code",
   "execution_count": null,
   "metadata": {},
   "outputs": [],
   "source": [
    "#shows to which cluster point belongs\n",
    "print(y_kmeans)"
   ]
  },
  {
   "cell_type": "code",
   "execution_count": null,
   "metadata": {},
   "outputs": [],
   "source": [
    "#centroid position\n",
    "centers_float = kmeans.cluster_centers_\n",
    "centers=np.rint(centers_float).astype(int)\n",
    "print(centers)"
   ]
  },
  {
   "cell_type": "code",
   "execution_count": null,
   "metadata": {},
   "outputs": [],
   "source": [
    "#Visualizing all the clusters \n",
    "\n",
    "plt.figure(figsize=(20,10))\n",
    "plt.scatter(X[y_kmeans == 0, 0], X[y_kmeans == 0, 1], s = 50, c = 'red', label = 'Cluster 1')\n",
    "plt.scatter(X[y_kmeans == 1, 0], X[y_kmeans == 1, 1], s = 50, c = 'blue', label = 'Cluster 2')\n",
    "plt.scatter(X[y_kmeans == 2, 0], X[y_kmeans == 2, 1], s = 50, c = 'green', label = 'Cluster 3')\n",
    "  \n",
    "plt.scatter(centers[:, 0], centers[:, 1], c='yellow', s=200, alpha=0.5,label = 'Centroids');\n",
    "plt.title('Clusters of customers Theta Mode')\n",
    "plt.xlabel('Customer')\n",
    "plt.ylabel('Theta')\n",
    "plt.legend()\n",
    "plt.grid()\n",
    "plt.show()"
   ]
  },
  {
   "attachments": {
    "image.png": {
    }
   },
   "cell_type": "markdown",
   "metadata": {},
   "source": [
    "![image.png](attachment:image.png)\n",
    "\n",
    "## Part 2 - Quantum Calculation\n",
    "\n",
    "Inspired by the article _Quantum K-Means algoritm_ written by Shan Jin, Xi He, Xiaokai Hou, Li Sun, Dingding Wen, Shaojun Wu, and Xiaoting Wang"
   ]
  },
  {
   "cell_type": "markdown",
   "metadata": {},
   "source": [
    "## Determination of the distance between two points in quantum logic\n",
    "\n",
    "Let's see how to apply a quantum circuit to calculate the distance between two points.\n",
    "\n",
    "It is not a real Euclidean distance but a measure of the probability for the two qubits at which has been imposed a  'rotation' equal to the $\\theta_1\\quad and\\quad \\theta_2\\quad $angle of being considered as equal (the more the angle are close, the more increases this probability)"
   ]
  },
  {
   "attachments": {
    "image.png": {
    }
   },
   "cell_type": "markdown",
   "metadata": {},
   "source": [
    "## But first ... let's recall some concepts of quantum computing:\n",
    "\n",
    "$\\text a)\\quad superposition$\n",
    "\n",
    "is the ability of a qubit to assume simultaneously more logical states that vary continuously from the value 0 to the value 1. The superposition on a quantum computer is obtained by applying to the qubit a Hadamard gate that gives a rotation to the qubit around the z+x axis. This rotation involves the transformation of Z into X and of X into Z. We can see the effect through the bloch sphere that represents the qubit before and after the application of the port.\n",
    "\n",
    "![image.png](attachment:image.png)\n",
    "\n",
    "$\\text b)\\quad entanglement$\n",
    "\n",
    "It is the characteristic that binds some qubits together and makes them become part of a single quantum system. In this case what happens to a qubit is reflected instantly to the other qubits of the system. To achieve entanglement between qubits, the quantum computer uses controlled gates that determine the state of one or more qubits together on the basis of the value assumed by a qubit controller (or ancilla qubit).\n"
   ]
  },
  {
   "attachments": {
    "image.png": {
    }
   },
   "cell_type": "markdown",
   "metadata": {},
   "source": [
    "## The c-swap circuit\n",
    "\n",
    "![image.png](attachment:image.png)\n",
    "The circuit is composed by a so called controlled swap (c-swap) or Fredkin circuit. An ancilla bit is controlling two input X and Y. If the Ancilla value is 1 then the X and Y values are swapped. In Classic Computing the truth tabel of the circuit is the following:"
   ]
  },
  {
   "attachments": {
    "image.png": {
    },
    "immagine.png": {
    }
   },
   "cell_type": "markdown",
   "metadata": {},
   "source": [
    "Classic computing truth table\n",
    "![image.png](attachment:image.png)\n",
    "\n",
    "We can see that the ancilla 1 acts only when the values of the controlled bit are different so, in this case, the relation between ancilla and X,Y can be compared to that of the input of an XOR or a difference without sign of two bits and their output:\n",
    "![immagine.png](attachment:immagine.png)\n"
   ]
  },
  {
   "cell_type": "markdown",
   "metadata": {},
   "source": [
    "\n",
    "In the Quantum implementation of this example the ancilla bit is put in superposition state by using a Hadamard gate, then another Hadamard makes the circuit reversible. \n",
    "\n",
    "The c-swap circuit inverts the controlled qubits when the value of the ancilla bit is one and puts the whole system in entanglement status.\n",
    "\n",
    "Only the ancilla bit is measured at the end but, because of the entanglement state of the system it records also the states of the controlled qubits.\n",
    "\n",
    "With reference to the figure, the whole state of the quantum system can be expressed by:\n",
    "\n",
    "1)  $$|0_{anc}\\rangle|x\\rangle|y\\rangle \\rightarrow \\frac{1}{2}|0_{anc}\\rangle(|xy\\rangle+|yx\\rangle) + \\frac{1}{2}|1_{anc}\\rangle(|xy\\rangle-|yx\\rangle)$$\n",
    "\n",
    "In fact starting from $|0_{anc}xy\\rangle$ and applying the first Hadamard circuit we obtain \n",
    "$$\\frac{1}{\\sqrt2}(|0_{anc}xy\\rangle+|1_{anc}xy\\rangle)$$\n",
    "\n",
    "then applying the C-swap circuit we get\n",
    "$$\\frac{1}{\\sqrt2}(|0_{anc}xy\\rangle+|1_{anc}yx\\rangle)$$\n",
    "\n",
    "At last, applying the second Hadamard circuit on Ancilla qubit we get\n",
    "\n",
    "$$\\frac{1}{2}(|0_{anc}xy\\rangle+|1_{anc}xy\\rangle+|0_{anc}yx\\rangle-|1_{anc}yx\\rangle)$$ \n",
    "and then\n",
    "\n",
    "$$\\frac{1}{2}|0_{anc}\\rangle(|xy\\rangle+|yx\\rangle) + \\frac{1}{2}|1_{anc}\\rangle(|xy\\rangle-|yx\\rangle)$$\n",
    "\n",
    "Starting from 1) can be demonstrated that the probability to measure $|1\\rangle$ as the final state is\n",
    "\n",
    "2) $$P(|1_{anc}\\rangle)=\\frac{1}{2}-\\frac{1}{2}|\\langle x|y\\rangle|^2$$\n",
    "\n",
    "In fact \n",
    "$$\\frac{1}{2}|1_{anc}\\rangle(|xy\\rangle-|yx\\rangle)=$$\n",
    "\n",
    "let's consider the tensor products\n",
    "\n",
    "$$ \\frac{1}{2}|1_{anc}\\rangle\\left[  \\left(\\begin{matrix} \n",
    "x_1\\left(\\begin{matrix}y_1\\\\y_2\\end{matrix}\\right)\\\\\n",
    "x_2\\left(\\begin{matrix}y_1\\\\y_2\\end{matrix}\\right) \n",
    "\\end{matrix}\\right)-\\left(\\begin{matrix} \n",
    "y_1\\left(\\begin{matrix}x_1\\\\x_2\\end{matrix}\\right)\\\\\n",
    "y_2\\left(\\begin{matrix}x_1\\\\x_2\\end{matrix}\\right) \n",
    "\\end{matrix}\\right)\\right]\n",
    "=$$\n",
    "\n",
    "$$\n",
    " \\frac{1}{2}|1_{anc}\\rangle\\left[  \\left(\\begin{matrix} \n",
    "x_1y_1\\\\\n",
    "x_1y_2\\\\ \n",
    "x_2y_1\\\\\n",
    "x_2y_2\n",
    "\\end{matrix}\\right)-\\left(\\begin{matrix} \n",
    "x_1y_1\\\\\n",
    "y_1x_2\\\\\n",
    "y_2x_1\\\\\n",
    "y_2x_2\n",
    "\\end{matrix}\\right)\\right]\n",
    "=\\frac{1}{2}\\left(\\begin{matrix} \n",
    "0\\\\\n",
    "x_1y_2-y_1x_2\\\\ \n",
    "x_2y_1-y_2x_1\\\\\n",
    "0\n",
    "\\end{matrix}\\right)$$\n",
    "then it follows \n",
    "\n",
    "$$P(1_{anc})=\\frac{1}{4}\\left[{(x_1y_1-y_1x_2)}^2+{(x_2y_1-y_2x_1)}^2\\right] = \\frac{1}{4}(x_1^2y_2^2+ y_1^2x_2^2+x_2^2y_1^2+y_2^2x_1^2-4x_1x_2y_1y_2)=$$\n",
    "\n",
    "$$\n",
    "\\color{blue}{\n",
    "\\frac{1}{2}(x_1^2y_2^2+y_1^2x_2^2-2x_1x_2y_1y_2)}$$\n",
    "\n",
    "Starting from the 2) instead we have (considering that the qubit can be considered a base in $C_n$ and so $y_1^2+y_2^2=1$)\n",
    "\n",
    "$$\n",
    "P(|1_{anc}\\rangle)=\\frac{1}{2}-\\frac{1}{2}|\\langle x|y\\rangle|^2=\n",
    "\\frac{1}{2}[1-{(x_1y_1+x_2y_2)}^2]=$$\n",
    "\n",
    "$$\n",
    "\\frac{1}{2}[1-(x_1^2y_1^2+x_2^2y_2^2+2x_1x_2y_1y_2)]=\\frac{1}{2}\\{1-[(1-x_2^2)y_1^2+(1-x_1^2)y_2^2+2x_1x_2y_1y_2 ]\\}=$$\n",
    "\n",
    "$$\n",
    "\\frac{1}{2}[1-(y_1^2-x_2^2y_1^2+y_2^2-x_1^2y_2^2+2x_1x_2y_1y_2)]=\\frac{1}{2}[1-(1-x_2^2y_1^2-x_1^2y_2^2+2x_1x_2y_1y_2)]=$$\n",
    "\n",
    "$$\n",
    "\\color{blue}{\n",
    "\\frac{1}{2}(x_1^2y_2^2+y_1^2x_2^2-2x_1x_2y_1y_2)}$$\n",
    "\n",
    "\n",
    "The 2) is in positive correlation with the Dirac expression of the Euclidean distance:\n",
    "\n",
    "$Euclidean Distance=\\sqrt{(2-2|\\langle x|y\\rangle|)}$     it can be demonstrated starting from the traditional expression of the Euclidean distance:\n",
    "$d=\\sqrt{(x_1-y_1)^2+(x_2-y_2)^2}$ = \n",
    "\n",
    "$\\sqrt{x_1^2+y_1^2-2x_1y_1+x_2^2+y_2^2-2x_2y_2}\\qquad$  and, considering that the qubit can be considered a base in $C_n$,\n",
    "\n",
    "=  $\\sqrt{2-2(x_1y_1+x_2y_2)}\\qquad$ but $\\qquad x_1y_1+x_2y_2\\qquad$ is equal to $\\langle x|y\\rangle$ ...\n",
    "\n",
    "\n"
   ]
  },
  {
   "attachments": {
    "image.png": {
    }
   },
   "cell_type": "markdown",
   "metadata": {},
   "source": [
    "In the following exercise we will put $U_3 gates $ in the controlled qubit applyng to the qubits a rotation $\\theta$ equal to the arctangent of the ratio between the two features of the \"Classic\" section.\n",
    "\n",
    "![image.png](attachment:image.png)\n",
    "\n",
    "If the angle are close each other then the probability that the two qubits are considered equals (and so the probability of 'one' measure of the ancilla) is low. Instead, in the case the angle are different, the c-swap operates more often and the 'one' measure rate is higher. \n"
   ]
  },
  {
   "attachments": {
    "image.png": {
    }
   },
   "cell_type": "markdown",
   "metadata": {},
   "source": [
    "## Some quantum recalls\n",
    "\n",
    "What is the $U_3$ gate? \n",
    "\n",
    "![image.png](attachment:image.png)\n",
    "\n",
    "It is a 'physical' gate able to give rotations to a qubit around the X, Y and Z axes. It receives in input 3 values corresponding to the value in radians of the rotations to be impressed. In our case we consider just the X-rotation introducing a fixed $\\pi$ rotation around Y and Z.\n"
   ]
  },
  {
   "cell_type": "markdown",
   "metadata": {},
   "source": [
    "## Preparation of libraries "
   ]
  },
  {
   "cell_type": "code",
   "execution_count": null,
   "metadata": {},
   "outputs": [],
   "source": [
    "%matplotlib inline\n",
    "# Importing standard Qiskit libraries and configuring account\n",
    "from qiskit import QuantumCircuit, execute, Aer, IBMQ\n",
    "from qiskit.compiler import transpile, assemble\n",
    "from qiskit.tools.jupyter import *\n",
    "from qiskit.visualization import *"
   ]
  },
  {
   "cell_type": "code",
   "execution_count": null,
   "metadata": {},
   "outputs": [],
   "source": [
    "import sys\n",
    "import types\n",
    "import pip\n",
    "import numpy as np\n",
    "import math\n",
    "import pandas as pd"
   ]
  },
  {
   "cell_type": "code",
   "execution_count": null,
   "metadata": {},
   "outputs": [],
   "source": [
    "pi = math.pi"
   ]
  },
  {
   "cell_type": "markdown",
   "metadata": {},
   "source": [
    "## Connection with IBM Q systems "
   ]
  },
  {
   "cell_type": "code",
   "execution_count": null,
   "metadata": {},
   "outputs": [],
   "source": [
    "# Loading your IBM Q account(s)\n",
    "provider = IBMQ.load_account()\n",
    "\n",
    "import getpass, time\n",
    "from qiskit import QuantumCircuit, ClassicalRegister, QuantumRegister\n",
    "from qiskit import execute, Aer, IBMQ\n",
    "\n",
    "\n",
    "# import basic plot tools\n",
    "from qiskit.tools.visualization import circuit_drawer\n",
    "from qiskit.tools.visualization import plot_histogram\n",
    "from qiskit.tools.visualization import iplot_histogram"
   ]
  },
  {
   "cell_type": "code",
   "execution_count": null,
   "metadata": {},
   "outputs": [],
   "source": [
    "backend = Aer.get_backend('qasm_simulator')"
   ]
  },
  {
   "cell_type": "markdown",
   "metadata": {},
   "source": [
    "## Loading the dataset for quantum analysis\n",
    "\n",
    "WARNING: no multiplication by 10,000 of theta to not distort any calculation"
   ]
  },
  {
   "cell_type": "code",
   "execution_count": null,
   "metadata": {},
   "outputs": [],
   "source": [
    "df_data_1 = pd.read_csv('DataForQComparison.csv')\n",
    "df_data_1.head()\n",
    "dataset=df_data_1\n",
    "dataset['Theta']=np.arctan(dataset['Annual Income_k$'].values.astype(int)/dataset['Spending Score_1_to_100'].values.astype(int))\n",
    "dataset['ID']=dataset.reset_index().index\n",
    "dataset.head(10)"
   ]
  },
  {
   "cell_type": "code",
   "execution_count": null,
   "metadata": {},
   "outputs": [],
   "source": [
    "dataset.shape"
   ]
  },
  {
   "cell_type": "code",
   "execution_count": null,
   "metadata": {},
   "outputs": [],
   "source": [
    "# Start\n",
    "# Creating Quantum Circuit called \"qc\" involving your Quantum Register \"qr\"\n",
    "# and your Classical Register \"cr\"\n",
    "qr = QuantumRegister(3)\n",
    "cr = ClassicalRegister(3)\n",
    "qc = QuantumCircuit ( qr, cr, name=\"k_means\")"
   ]
  },
  {
   "cell_type": "markdown",
   "metadata": {},
   "source": [
    "## First build and test of quantum circuit\n",
    "A particular aspect of quantum programming is that an algorithm is created by defining a \"quantum circuit\". This circuit is volatile, i.e. every time the measurement is made on it, it collapses in a specific state making the whole circuit no more usable. So this must be recreated. In case of iterative cycles, therefore, at each cycle the circuit must be recreated."
   ]
  },
  {
   "cell_type": "code",
   "execution_count": null,
   "metadata": {},
   "outputs": [],
   "source": [
    "#Circuit test\n",
    "#from the dataset we get the first and the 7th theta valuest\n",
    "i=0\n",
    "j=7\n",
    "\n",
    "theta_1 = dataset.at[i,'Theta']\n",
    "theta_2 = dataset.at[i+j,'Theta']\n",
    "#Compose the quantum circuit via qiskit\n",
    "#apply the first Hadamard gate to the ancilla qubit\n",
    "qc.h(qr[1])\n",
    "#apply the U3 gates to the controlled qubits \n",
    "qc.u3(theta_1, pi, pi, qr[0])\n",
    "qc.u3(theta_2, pi, pi, qr[2])\n",
    "#apply the c-swap circuit\n",
    "qc.cswap(qr[1], qr[0], qr[2])\n",
    "#apply the second Hadamard gate to the ancilla qubit\n",
    "qc.h(qr[1])\n",
    "#make the measurement\n",
    "qc.measure(qr[1], cr[1])\n",
    "\n",
    "job_exp = execute(qc, backend=backend, shots=4096)  \n",
    "result = job_exp.result()\n",
    "print(result)\n",
    "\n",
    "#as an exercise repeat the calculation starting the run from the section labelled #start and cahnging:\n",
    "\n",
    "# i and j selecting the values inside the file\n",
    "# and/or mantaining the original values but adding two adamard gates before qr[0] amd qr[2]\n",
    "# you can also modify the shots number and see if there is a difference in the result\n"
   ]
  },
  {
   "cell_type": "code",
   "execution_count": null,
   "metadata": {},
   "outputs": [],
   "source": [
    "circuit_drawer(qc)"
   ]
  },
  {
   "cell_type": "code",
   "execution_count": null,
   "metadata": {},
   "outputs": [],
   "source": [
    "print(result.get_counts(qc))"
   ]
  },
  {
   "cell_type": "code",
   "execution_count": null,
   "metadata": {},
   "outputs": [],
   "source": [
    "plot_histogram(result.get_counts(qc))"
   ]
  },
  {
   "cell_type": "markdown",
   "metadata": {},
   "source": [
    "We can consider the 1 probability like a measurement of the 'distance' between the two points."
   ]
  },
  {
   "cell_type": "markdown",
   "metadata": {},
   "source": [
    "## In the following plot we can see different visualizations related to the quantum circuit"
   ]
  },
  {
   "cell_type": "code",
   "execution_count": null,
   "metadata": {},
   "outputs": [],
   "source": [
    "# State vector visualizing\n",
    "\n",
    "#state_vec_sim_bck=\"statevector_simulator\"\n",
    "state_vec_sim_bck=Aer.get_backend('statevector_simulator')\n",
    "\n",
    "n = 3  # number of qubits \n",
    "q = QuantumRegister(n)\n",
    "c = ClassicalRegister(n)\n",
    "\n",
    "i=0\n",
    "j=7\n",
    "\n",
    "qc = QuantumCircuit(q, c, name=\"State_super\")\n",
    "\n",
    "theta_1=0\n",
    "Theta_2=2\n",
    "\n",
    "#Compose the quantum circuit via qiskit\n",
    "qc.h(q[1])\n",
    "\n",
    "qc.u3(theta_1, pi, pi, q[0])\n",
    "qc.u3(theta_2, pi, pi, q[2])\n",
    "qc.cswap(q[1], q[0], q[2])\n",
    "qc.h(q[1])\n",
    "\n",
    "# execute the quantum circuit \n",
    "job = execute(qc, backend=state_vec_sim_bck)\n",
    "state_superposition = job.result().get_statevector(qc)"
   ]
  },
  {
   "cell_type": "markdown",
   "metadata": {},
   "source": [
    "## The overall statevector defining the whole circuit \n",
    "_Coefficients_"
   ]
  },
  {
   "cell_type": "code",
   "execution_count": null,
   "metadata": {},
   "outputs": [],
   "source": [
    "def overlap(state1, state2):\n",
    "    return np.round(np.dot(state1.conj(), state2))\n",
    "\n",
    "print(state_superposition)\n",
    "\n",
    "overlap(state_superposition, state_superposition)"
   ]
  },
  {
   "cell_type": "markdown",
   "metadata": {},
   "source": [
    "## Probability density"
   ]
  },
  {
   "cell_type": "code",
   "execution_count": null,
   "metadata": {},
   "outputs": [],
   "source": [
    "def state_2_rho(state):\n",
    "    return np.outer(state, state.conj())\n",
    "\n",
    "rho_superposition=state_2_rho(state_superposition)\n",
    "print(rho_superposition)"
   ]
  },
  {
   "cell_type": "markdown",
   "metadata": {},
   "source": [
    "## The 3-d representation of the complex coefficients\n",
    "'plot_state_city': The standard view for quantum states where the real and imaginary (imag) parts of the state matrix are plotted like a city"
   ]
  },
  {
   "cell_type": "code",
   "execution_count": null,
   "metadata": {
    "scrolled": true
   },
   "outputs": [],
   "source": [
    "from qiskit.tools.visualization import plot_state_city, plot_state_hinton\n",
    "plot_state_city(rho_superposition, figsize=(20,10), title=\"Circuit\", color=['blue', 'orange'])"
   ]
  },
  {
   "cell_type": "markdown",
   "metadata": {},
   "source": [
    "## Now let's start dancing with classic and qubits...\n",
    "We will calculate the clusters by using low level functions that can be used for both classic and quantum computation. The only difference is in the way we call the below defined findClosestCentroids. mode=0 means classic\n",
    "mode=1 means quantum\n",
    "## First of all we will define the quantum distance as a function"
   ]
  },
  {
   "cell_type": "code",
   "execution_count": null,
   "metadata": {},
   "outputs": [],
   "source": [
    "df_data_1 = pd.read_csv('DataForQComparison.csv')\n",
    "df_data_1.head()\n",
    "dataset=df_data_1\n",
    "dataset['Theta']=np.arctan(dataset['Annual Income_k$'].values.astype(int)/dataset['Spending Score_1_to_100'].values.astype(int))*10\n",
    "dataset['ID']=dataset.reset_index().index\n",
    "dataset.head(10)"
   ]
  },
  {
   "cell_type": "code",
   "execution_count": null,
   "metadata": {},
   "outputs": [],
   "source": [
    "def quantumdistance(theta_1,theta_2, shots):\n",
    "#    prob=np.zeros(3)\n",
    "#    for j in range(0,3):\n",
    "        pi = math.pi\n",
    "        qr = QuantumRegister(3)\n",
    "        cr = ClassicalRegister(3)\n",
    "        qc = QuantumCircuit ( qr, cr, name=\"k_means\")\n",
    "        \n",
    "        # Achieve the quantum circuit via qiskit\n",
    "        qc.h(qr[1])\n",
    "\n",
    "        qc.u3(theta_1, pi, pi, qr[0])\n",
    "        qc.u3(theta_2, pi, pi, qr[2])\n",
    "        qc.cswap(qr[1], qr[0], qr[2])\n",
    "        qc.h(qr[1])\n",
    "        qc.measure(qr[1], cr[1])\n",
    "\n",
    "        # eseguo il circuito costruito sulla coppia I,J\n",
    "        backend = Aer.get_backend('qasm_simulator')\n",
    "        job_exp = execute(qc, backend=backend, shots=shots) \n",
    "        result = job_exp.result()\n",
    "        # calculate the ratio between the 0 and tha one result in measure registry\n",
    "        v1=result.get_counts(qc)['000']\n",
    "        if '010' in result.get_counts(qc):\n",
    "            v2=result.get_counts(qc)['010']\n",
    "        else:\n",
    "            v2=0\n",
    "            \n",
    "        prob=v2/(v1+v2) # Probab\n",
    "\n",
    "        return prob"
   ]
  },
  {
   "cell_type": "code",
   "execution_count": null,
   "metadata": {},
   "outputs": [],
   "source": [
    "def initcentroids(X,K):\n",
    "# Assigns the the initial values of centroids picking randomly from inside the example data \n",
    "#\n",
    "    b=np.size(X[1, :])\n",
    "    d=np.size(X[:, 1])\n",
    "    c=(K,b)\n",
    "    centroids = np.zeros(c)\n",
    "#   executes a random permutation of the X index\n",
    "    randidx = np.random.permutation(d)\n",
    "#   assigns the initial value of centroids to the first k values of the randomized permutation\n",
    "    centroids = X[randidx[0:K], :];\n",
    "    return centroids"
   ]
  },
  {
   "cell_type": "code",
   "execution_count": null,
   "metadata": {},
   "outputs": [],
   "source": [
    "def findClosestCentroids(X, centroids, mode):\n",
    "#FINDCLOSESTCENTROIDS computes the centroid memberships for every example\n",
    "#   idx = FINDCLOSESTCENTROIDS (X, centroids) returns the closest centroids\n",
    "#   in idx for a dataset X where each row is a single example. idx = m x 1 \n",
    "#   vector of centroid assignments (i.e. each entry in range [1..K])\n",
    "#\n",
    "\n",
    "# Set K\n",
    "    dimension=np.size(X,0)\n",
    "\n",
    "    K = np.size(centroids,0);\n",
    "\n",
    "# You need to return the following variables correctly.\n",
    "    s=(dimension)\n",
    "    idx = np.zeros(s,dtype=int);\n",
    "\n",
    "    for i in range(0,dimension):\n",
    "        minimo=10000\n",
    "        dist=0\n",
    "        for j in range(0,K):\n",
    "            if mode==1: \n",
    "                dist = (X[i,0]-centroids[j,0])**2+(X[i,1]-centroids[j,1])**2\n",
    "            else:\n",
    "                dist=quantumdistance(X[i,1],centroids[j,1], 2048)\n",
    "            if dist <= minimo:\n",
    "                minimo = dist\n",
    "                idx[i] = j\n",
    "    return idx"
   ]
  },
  {
   "cell_type": "code",
   "execution_count": null,
   "metadata": {},
   "outputs": [],
   "source": [
    "def computeCentroids(X,idx,K):\n",
    "#   Calculates the (new) centroids as the mean of the points having the same membership\n",
    "#\n",
    "    s=(K,2)\n",
    "    r=(K,1)\n",
    "    m=np.size(X[:,0])\n",
    "    centroids=np.zeros(s)\n",
    "    C=np.zeros(r);\n",
    "    for j in range (0,K):\n",
    "        for i in range (1,m):\n",
    "            if idx[i] == j:\n",
    "                centroids[j,:]=centroids[j,:]+X[i,:];\n",
    "                C[j]=C[j]+1;\n",
    "    for j in range(0,K):\n",
    "        centroids[j,:]=1/C[j]*centroids[j,:]\n",
    "    return centroids"
   ]
  },
  {
   "cell_type": "code",
   "execution_count": null,
   "metadata": {},
   "outputs": [],
   "source": [
    "s=(20,2)\n",
    "X=np.zeros(s)\n",
    "X[:,0]=dataset['ID']\n",
    "X[:,1]=dataset['Theta']*10    #scale arrangement"
   ]
  },
  {
   "cell_type": "code",
   "execution_count": null,
   "metadata": {},
   "outputs": [],
   "source": [
    "def runkmeans (X, initial_centroids,max_iters, mode):\n",
    "#   Executes in sequence : centroids initialization, repeat until max_iters is reached: findclosest \n",
    "#   points, calculates the new centroids\n",
    "\n",
    "# Initialize values\n",
    "    m = np.size(X[:,0])\n",
    "    n = np.size(X[1,:])\n",
    "    d = (m,1)\n",
    "    K = np.size(initial_centroids, 0)\n",
    "    centroids = initial_centroids\n",
    "    previous_centroids = centroids\n",
    "    idx = np.zeros(d)\n",
    "#  execute loop\n",
    "    for i in range (1,max_iters):  \n",
    "# Output progress\n",
    "        print('K-Means iteration ...\\n', i, max_iters)\n",
    "# For each example in X, assign it to the closest centroid\n",
    "        idx = findClosestCentroids(X, centroids, mode)\n",
    "# Given the memberships, compute new centroids\n",
    "        centroids = computeCentroids(X, idx, K)\n",
    "    return centroids, idx\n",
    "\n",
    "init_centroids=initcentroids(X,3)\n",
    "a=runkmeans (X, init_centroids,20,1)\n",
    "\n",
    "centers=a[0]\n",
    "Quantistic=a[1]\n",
    "print(centers)\n",
    "print(Quantistic)"
   ]
  },
  {
   "cell_type": "code",
   "execution_count": null,
   "metadata": {},
   "outputs": [],
   "source": [
    "#Visualizing all the clusters \n",
    "\n",
    "plt.figure(figsize=(20,10))\n",
    "plt.scatter(X[Quantistic == 0, 0], X[Quantistic == 0, 1], s = 50, c = 'red', label = 'Cluster 1')\n",
    "plt.scatter(X[Quantistic == 1, 0], X[Quantistic == 1, 1], s = 50, c = 'blue', label = 'Cluster 2')\n",
    "plt.scatter(X[Quantistic == 2, 0], X[Quantistic == 2, 1], s = 50, c = 'green', label = 'Cluster 3')\n",
    "\n",
    "plt.scatter(centers[:, 0], centers[:, 1], c='yellow', s=200, alpha=0.5,label = 'Centroids');\n",
    "plt.title('Clusters of customers Theta Quantum Mode')\n",
    "plt.xlabel('Customer ID')\n",
    "plt.ylabel('Theta')\n",
    "x = X[:, 0]\n",
    "y = X[:, 1]\n",
    "etichette=dataset['ID'].tolist()\n",
    "for i, txt in enumerate(etichette):\n",
    "    plt.annotate(txt, (x[i], y[i]))\n",
    "plt.legend()\n",
    "plt.grid()\n",
    "plt.show()"
   ]
  },
  {
   "cell_type": "markdown",
   "metadata": {},
   "source": [
    "## The second run is Quantum"
   ]
  },
  {
   "cell_type": "code",
   "execution_count": null,
   "metadata": {
    "scrolled": true
   },
   "outputs": [],
   "source": [
    "X[:,1] = X[:,1]/100\n",
    "init_centroids=initcentroids(X,3)\n",
    "a=runkmeans (X, init_centroids,10,0)\n",
    "\n",
    "centers=a[0]\n",
    "Quantistic=a[1]\n",
    "print(centers)\n",
    "print(Quantistic)"
   ]
  },
  {
   "cell_type": "code",
   "execution_count": null,
   "metadata": {},
   "outputs": [],
   "source": [
    "#Visualizing all the clusters \n",
    "\n",
    "plt.figure(figsize=(20,10))\n",
    "plt.scatter(X[Quantistic == 0, 0], X[Quantistic == 0, 1], s = 50, c = 'red', label = 'Cluster 1')\n",
    "plt.scatter(X[Quantistic == 1, 0], X[Quantistic == 1, 1], s = 50, c = 'blue', label = 'Cluster 2')\n",
    "plt.scatter(X[Quantistic == 2, 0], X[Quantistic == 2, 1], s = 50, c = 'green', label = 'Cluster 3')\n",
    "\n",
    "plt.scatter(centers[:, 0], centers[:, 1], c='yellow', s=200, alpha=0.5,label = 'Centroids');\n",
    "plt.title('Clusters of customers Theta Quantum Mode')\n",
    "plt.xlabel('Customer ID')\n",
    "plt.ylabel('Theta')\n",
    "x = X[:, 0]\n",
    "y = X[:, 1]\n",
    "etichette=dataset['ID'].tolist()\n",
    "for i, txt in enumerate(etichette):\n",
    "    plt.annotate(txt, (x[i], y[i]))\n",
    "plt.legend()\n",
    "plt.grid()\n",
    "plt.show()"
   ]
  },
  {
   "cell_type": "code",
   "execution_count": null,
   "metadata": {},
   "outputs": [],
   "source": []
  }
 ],
 "metadata": {
  "kernelspec": {
   "display_name": "Python 3",
   "language": "python",
   "name": "python3"
  },
  "language_info": {
   "codemirror_mode": {
    "name": "ipython",
    "version": 3
   },
   "file_extension": ".py",
   "mimetype": "text/x-python",
   "name": "python",
   "nbconvert_exporter": "python",
   "pygments_lexer": "ipython3",
   "version": "3.7.6"
  }
 },
 "nbformat": 4,
 "nbformat_minor": 1
}
